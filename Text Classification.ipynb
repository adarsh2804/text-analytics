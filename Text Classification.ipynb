{
 "cells": [
  {
   "cell_type": "code",
   "execution_count": 57,
   "metadata": {},
   "outputs": [],
   "source": [
    "#Imports\n",
    "import nltk\n",
    "import re\n",
    "import numpy as np\n",
    "import pickle\n",
    "from nltk.corpus import stopwords\n",
    "from sklearn.datasets import load_files"
   ]
  },
  {
   "cell_type": "code",
   "execution_count": 58,
   "metadata": {},
   "outputs": [],
   "source": [
    "# import the datasets\n",
    "reviews = load_files('txt_sentoken/')"
   ]
  },
  {
   "cell_type": "code",
   "execution_count": 7,
   "metadata": {},
   "outputs": [
    {
     "name": "stdout",
     "output_type": "stream",
     "text": [
      "neg\n",
      "pos\n"
     ]
    }
   ],
   "source": [
    "!ls txt_sentoken        # shows all data(file/folder) in the directory"
   ]
  },
  {
   "cell_type": "code",
   "execution_count": 59,
   "metadata": {},
   "outputs": [],
   "source": [
    "x, y = reviews.data, reviews.target   # x has data and y has label"
   ]
  },
  {
   "cell_type": "code",
   "execution_count": 6,
   "metadata": {},
   "outputs": [
    {
     "data": {
      "text/plain": [
       "array([0, 1, 1, ..., 1, 0, 0])"
      ]
     },
     "execution_count": 6,
     "metadata": {},
     "output_type": "execute_result"
    }
   ],
   "source": [
    "y             # 0 for neg and 1 for pos"
   ]
  },
  {
   "cell_type": "code",
   "execution_count": 8,
   "metadata": {},
   "outputs": [
    {
     "data": {
      "text/plain": [
       "b\"arnold schwarzenegger has been an icon for action enthusiasts , since the late 80's , but lately his films have been very sloppy and the one-liners are getting worse . \\nit's hard seeing arnold as mr . freeze in batman and robin , especially when he says tons of ice jokes , but hey he got 15 million , what's it matter to him ? \\nonce again arnold has signed to do another expensive blockbuster , that can't compare with the likes of the terminator series , true lies and even eraser . \\nin this so called dark thriller , the devil ( gabriel byrne ) has come upon earth , to impregnate a woman ( robin tunney ) which happens every 1000 years , and basically destroy the world , but apparently god has chosen one man , and that one man is jericho cane ( arnold himself ) . \\nwith the help of a trusty sidekick ( kevin pollack ) , they will stop at nothing to let the devil take over the world ! \\nparts of this are actually so absurd , that they would fit right in with dogma . \\nyes , the film is that weak , but it's better than the other blockbuster right now ( sleepy hollow ) , but it makes the world is not enough look like a 4 star film . \\nanyway , this definitely doesn't seem like an arnold movie . \\nit just wasn't the type of film you can see him doing . \\nsure he gave us a few chuckles with his well known one-liners , but he seemed confused as to where his character and the film was going . \\nit's understandable , especially when the ending had to be changed according to some sources . \\naside form that , he still walked through it , much like he has in the past few films . \\ni'm sorry to say this arnold but maybe these are the end of your action days . \\nspeaking of action , where was it in this film ? \\nthere was hardly any explosions or fights . \\nthe devil made a few places explode , but arnold wasn't kicking some devil butt . \\nthe ending was changed to make it more spiritual , which undoubtedly ruined the film . \\ni was at least hoping for a cool ending if nothing else occurred , but once again i was let down . \\ni also don't know why the film took so long and cost so much . \\nthere was really no super affects at all , unless you consider an invisible devil , who was in it for 5 minutes tops , worth the overpriced budget . \\nthe budget should have gone into a better script , where at least audiences could be somewhat entertained instead of facing boredom . \\nit's pitiful to see how scripts like these get bought and made into a movie . \\ndo they even read these things anymore ? \\nit sure doesn't seem like it . \\nthankfully gabriel's performance gave some light to this poor film . \\nwhen he walks down the street searching for robin tunney , you can't help but feel that he looked like a devil . \\nthe guy is creepy looking anyway ! \\nwhen it's all over , you're just glad it's the end of the movie . \\ndon't bother to see this , if you're expecting a solid action flick , because it's neither solid nor does it have action . \\nit's just another movie that we are suckered in to seeing , due to a strategic marketing campaign . \\nsave your money and see the world is not enough for an entertaining experience . \\n\""
      ]
     },
     "execution_count": 8,
     "metadata": {},
     "output_type": "execute_result"
    }
   ],
   "source": [
    "x[0]       # text is in binary form"
   ]
  },
  {
   "cell_type": "code",
   "execution_count": 60,
   "metadata": {},
   "outputs": [
    {
     "data": {
      "text/plain": [
       "'b arnold schwarzenegger has been an icon for action enthusiasts   since the late 80 s   but lately his films have been very sloppy and the one liners are getting worse    nit s hard seeing arnold as mr   freeze in batman and robin   especially when he says tons of ice jokes   but hey he got 15 million   what s it matter to him    nonce again arnold has signed to do another expensive blockbuster   that can t compare with the likes of the terminator series   true lies and even eraser    nin this so called dark thriller   the devil   gabriel byrne   has come upon earth   to impregnate a woman   robin tunney   which happens every 1000 years   and basically destroy the world   but apparently god has chosen one man   and that one man is jericho cane   arnold himself      nwith the help of a trusty sidekick   kevin pollack     they will stop at nothing to let the devil take over the world    nparts of this are actually so absurd   that they would fit right in with dogma    nyes   the film is that weak   but it s better than the other blockbuster right now   sleepy hollow     but it makes the world is not enough look like a 4 star film    nanyway   this definitely doesn t seem like an arnold movie    nit just wasn t the type of film you can see him doing    nsure he gave us a few chuckles with his well known one liners   but he seemed confused as to where his character and the film was going    nit s understandable   especially when the ending had to be changed according to some sources    naside form that   he still walked through it   much like he has in the past few films    ni m sorry to say this arnold but maybe these are the end of your action days    nspeaking of action   where was it in this film    nthere was hardly any explosions or fights    nthe devil made a few places explode   but arnold wasn t kicking some devil butt    nthe ending was changed to make it more spiritual   which undoubtedly ruined the film    ni was at least hoping for a cool ending if nothing else occurred   but once again i was let down    ni also don t know why the film took so long and cost so much    nthere was really no super affects at all   unless you consider an invisible devil   who was in it for 5 minutes tops   worth the overpriced budget    nthe budget should have gone into a better script   where at least audiences could be somewhat entertained instead of facing boredom    nit s pitiful to see how scripts like these get bought and made into a movie    ndo they even read these things anymore    nit sure doesn t seem like it    nthankfully gabriel s performance gave some light to this poor film    nwhen he walks down the street searching for robin tunney   you can t help but feel that he looked like a devil    nthe guy is creepy looking anyway    nwhen it s all over   you re just glad it s the end of the movie    ndon t bother to see this   if you re expecting a solid action flick   because it s neither solid nor does it have action    nit s just another movie that we are suckered in to seeing   due to a strategic marketing campaign    nsave your money and see the world is not enough for an entertaining experience    n '"
      ]
     },
     "execution_count": 60,
     "metadata": {},
     "output_type": "execute_result"
    }
   ],
   "source": [
    "re.sub(r'\\W', \" \", str(x[0]))"
   ]
  },
  {
   "cell_type": "code",
   "execution_count": 11,
   "metadata": {},
   "outputs": [
    {
     "data": {
      "text/plain": [
       "'b\"arnold schwarzenegger has been an icon for action enthusiasts , since the late 80\\'s , but lately his films have been very sloppy and the one-liners are getting worse . \\\\nit\\'s hard seeing arnold as mr . freeze in batman and robin , especially when he says tons of ice jokes , but hey he got 15 million , what\\'s it matter to him ? \\\\nonce again arnold has signed to do another expensive blockbuster , that can\\'t compare with the likes of the terminator series , true lies and even eraser . \\\\nin this so called dark thriller , the devil ( gabriel byrne ) has come upon earth , to impregnate a woman ( robin tunney ) which happens every 1000 years , and basically destroy the world , but apparently god has chosen one man , and that one man is jericho cane ( arnold himself ) . \\\\nwith the help of a trusty sidekick ( kevin pollack ) , they will stop at nothing to let the devil take over the world ! \\\\nparts of this are actually so absurd , that they would fit right in with dogma . \\\\nyes , the film is that weak , but it\\'s better than the other blockbuster right now ( sleepy hollow ) , but it makes the world is not enough look like a 4 star film . \\\\nanyway , this definitely doesn\\'t seem like an arnold movie . \\\\nit just wasn\\'t the type of film you can see him doing . \\\\nsure he gave us a few chuckles with his well known one-liners , but he seemed confused as to where his character and the film was going . \\\\nit\\'s understandable , especially when the ending had to be changed according to some sources . \\\\naside form that , he still walked through it , much like he has in the past few films . \\\\ni\\'m sorry to say this arnold but maybe these are the end of your action days . \\\\nspeaking of action , where was it in this film ? \\\\nthere was hardly any explosions or fights . \\\\nthe devil made a few places explode , but arnold wasn\\'t kicking some devil butt . \\\\nthe ending was changed to make it more spiritual , which undoubtedly ruined the film . \\\\ni was at least hoping for a cool ending if nothing else occurred , but once again i was let down . \\\\ni also don\\'t know why the film took so long and cost so much . \\\\nthere was really no super affects at all , unless you consider an invisible devil , who was in it for 5 minutes tops , worth the overpriced budget . \\\\nthe budget should have gone into a better script , where at least audiences could be somewhat entertained instead of facing boredom . \\\\nit\\'s pitiful to see how scripts like these get bought and made into a movie . \\\\ndo they even read these things anymore ? \\\\nit sure doesn\\'t seem like it . \\\\nthankfully gabriel\\'s performance gave some light to this poor film . \\\\nwhen he walks down the street searching for robin tunney , you can\\'t help but feel that he looked like a devil . \\\\nthe guy is creepy looking anyway ! \\\\nwhen it\\'s all over , you\\'re just glad it\\'s the end of the movie . \\\\ndon\\'t bother to see this , if you\\'re expecting a solid action flick , because it\\'s neither solid nor does it have action . \\\\nit\\'s just another movie that we are suckered in to seeing , due to a strategic marketing campaign . \\\\nsave your money and see the world is not enough for an entertaining experience . \\\\n\"'"
      ]
     },
     "execution_count": 11,
     "metadata": {},
     "output_type": "execute_result"
    }
   ],
   "source": [
    "re.sub(r'^b\\s+', \" \", str(x[0]))"
   ]
  },
  {
   "cell_type": "code",
   "execution_count": 61,
   "metadata": {},
   "outputs": [],
   "source": [
    "corpus = []\n",
    "for i in range(len(x)):\n",
    "    review = re.sub(r'\\W', \" \", str(x[i]))\n",
    "    review = review.lower()\n",
    "    review = re.sub(r'\\s+[a-z]\\s+', \" \",review)\n",
    "    review = re.sub(r'^b\\s+', \" \",review)\n",
    "    review = re.sub(r'\\s+', \" \",review)\n",
    "    corpus.append(review)"
   ]
  },
  {
   "cell_type": "code",
   "execution_count": 14,
   "metadata": {},
   "outputs": [],
   "source": [
    "#corpus"
   ]
  },
  {
   "cell_type": "markdown",
   "metadata": {},
   "source": [
    "### Bag of word model"
   ]
  },
  {
   "cell_type": "code",
   "execution_count": 62,
   "metadata": {},
   "outputs": [],
   "source": [
    "# creating BOW model\n",
    "from sklearn.feature_extraction.text import CountVectorizer"
   ]
  },
  {
   "cell_type": "code",
   "execution_count": 63,
   "metadata": {},
   "outputs": [],
   "source": [
    "vectorizer = CountVectorizer(max_features=2000, max_df=0.6, stop_words=stopwords.words('english'))\n",
    "x = vectorizer.fit_transform(corpus).toarray()"
   ]
  },
  {
   "cell_type": "markdown",
   "metadata": {},
   "source": [
    "### TF-IDF model"
   ]
  },
  {
   "cell_type": "code",
   "execution_count": 66,
   "metadata": {},
   "outputs": [],
   "source": [
    "# tf-idf model\n",
    "from sklearn.feature_extraction.text import TfidfTransformer\n",
    "transformer = TfidfTransformer()\n",
    "x = transformer.fit_transform(x).toarray()"
   ]
  },
  {
   "cell_type": "code",
   "execution_count": 78,
   "metadata": {},
   "outputs": [],
   "source": [
    "# tf-idf model directly from corpus\n",
    "#from sklearn.feature_extraction.text import TfidVectorizer\n",
    "#vectorizer = TfidVectorizer(max_features=2000, max_df=0.6, stop_words=stopwords.words('english'))\n",
    "#x = vectorizer.fit_transform(corpus).toarray()"
   ]
  },
  {
   "cell_type": "markdown",
   "metadata": {},
   "source": [
    "### Train-test split"
   ]
  },
  {
   "cell_type": "code",
   "execution_count": 67,
   "metadata": {},
   "outputs": [],
   "source": [
    "# Creating train and test dataset\n",
    "from sklearn.model_selection import train_test_split\n",
    "text_train, text_test, sent_train, sent_test = train_test_split(x, y, test_size = 0.20, random_state=0)"
   ]
  },
  {
   "cell_type": "markdown",
   "metadata": {},
   "source": [
    "### Model training"
   ]
  },
  {
   "cell_type": "code",
   "execution_count": 68,
   "metadata": {},
   "outputs": [
    {
     "data": {
      "text/plain": [
       "LogisticRegression()"
      ]
     },
     "execution_count": 68,
     "metadata": {},
     "output_type": "execute_result"
    }
   ],
   "source": [
    "# Model training\n",
    "from sklearn.linear_model import LogisticRegression\n",
    "classifier = LogisticRegression()\n",
    "classifier.fit(text_train, sent_train)"
   ]
  },
  {
   "cell_type": "markdown",
   "metadata": {},
   "source": [
    "### Model testing"
   ]
  },
  {
   "cell_type": "code",
   "execution_count": 69,
   "metadata": {},
   "outputs": [],
   "source": [
    "# Model testing\n",
    "sent_pred = classifier.predict(text_test)"
   ]
  },
  {
   "cell_type": "markdown",
   "metadata": {},
   "source": [
    "### Model Evaluation"
   ]
  },
  {
   "cell_type": "code",
   "execution_count": 70,
   "metadata": {},
   "outputs": [],
   "source": [
    "from sklearn.metrics import confusion_matrix, accuracy_score\n",
    "cm = confusion_matrix(sent_test,sent_pred)       # confusion matrix"
   ]
  },
  {
   "cell_type": "code",
   "execution_count": 71,
   "metadata": {},
   "outputs": [
    {
     "data": {
      "text/plain": [
       "array([[162,  46],\n",
       "       [ 27, 165]], dtype=int64)"
      ]
     },
     "execution_count": 71,
     "metadata": {},
     "output_type": "execute_result"
    }
   ],
   "source": [
    "cm"
   ]
  },
  {
   "cell_type": "code",
   "execution_count": 72,
   "metadata": {},
   "outputs": [
    {
     "data": {
      "text/plain": [
       "81.75"
      ]
     },
     "execution_count": 72,
     "metadata": {},
     "output_type": "execute_result"
    }
   ],
   "source": [
    "accuracy_score(sent_test,sent_pred)*100        # accuracy score"
   ]
  },
  {
   "cell_type": "markdown",
   "metadata": {},
   "source": [
    "# Saving Classifier"
   ]
  },
  {
   "cell_type": "code",
   "execution_count": 29,
   "metadata": {},
   "outputs": [],
   "source": [
    "with open('classifier.pickle', 'wb') as f:\n",
    "    pickle.dump(classifier, f)                 # it will dump the pickle object in the current directory"
   ]
  },
  {
   "cell_type": "markdown",
   "metadata": {},
   "source": [
    "## Testing with the random sample"
   ]
  },
  {
   "cell_type": "code",
   "execution_count": 73,
   "metadata": {},
   "outputs": [],
   "source": [
    "sample = [\"You are a nice person, Have a good life.\"]"
   ]
  },
  {
   "cell_type": "code",
   "execution_count": 74,
   "metadata": {},
   "outputs": [],
   "source": [
    "sample = vectorizer.transform(sample).toarray()"
   ]
  },
  {
   "cell_type": "code",
   "execution_count": 75,
   "metadata": {},
   "outputs": [
    {
     "data": {
      "text/plain": [
       "array([[0, 0, 0, ..., 0, 0, 0]], dtype=int64)"
      ]
     },
     "execution_count": 75,
     "metadata": {},
     "output_type": "execute_result"
    }
   ],
   "source": [
    "sample"
   ]
  },
  {
   "cell_type": "code",
   "execution_count": 76,
   "metadata": {},
   "outputs": [
    {
     "data": {
      "text/plain": [
       "4"
      ]
     },
     "execution_count": 76,
     "metadata": {},
     "output_type": "execute_result"
    }
   ],
   "source": [
    "sample[0].sum()"
   ]
  },
  {
   "cell_type": "code",
   "execution_count": 77,
   "metadata": {
    "scrolled": true
   },
   "outputs": [
    {
     "name": "stdout",
     "output_type": "stream",
     "text": [
      "[1]\n"
     ]
    }
   ],
   "source": [
    "print(classifier.predict(sample))           # 1 means positive"
   ]
  },
  {
   "cell_type": "markdown",
   "metadata": {},
   "source": [
    "## Using the saved file of classifier"
   ]
  },
  {
   "cell_type": "code",
   "execution_count": 43,
   "metadata": {},
   "outputs": [],
   "source": [
    "with open('classifier.pickle', 'rb') as f:\n",
    "    clf = pickle.load(f)"
   ]
  },
  {
   "cell_type": "code",
   "execution_count": 44,
   "metadata": {},
   "outputs": [
    {
     "name": "stdout",
     "output_type": "stream",
     "text": [
      "[1]\n"
     ]
    }
   ],
   "source": [
    "print(clf.predict(sample))"
   ]
  }
 ],
 "metadata": {
  "kernelspec": {
   "display_name": "Python 3",
   "language": "python",
   "name": "python3"
  },
  "language_info": {
   "codemirror_mode": {
    "name": "ipython",
    "version": 3
   },
   "file_extension": ".py",
   "mimetype": "text/x-python",
   "name": "python",
   "nbconvert_exporter": "python",
   "pygments_lexer": "ipython3",
   "version": "3.8.5"
  }
 },
 "nbformat": 4,
 "nbformat_minor": 4
}
