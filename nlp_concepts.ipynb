{
 "cells": [
  {
   "cell_type": "code",
   "execution_count": 304,
   "metadata": {},
   "outputs": [],
   "source": [
    "import numpy as np\n",
    "import pandas as pd\n",
    "import nltk\n",
    "import spacy"
   ]
  },
  {
   "cell_type": "markdown",
   "metadata": {},
   "source": [
    "# Tokenization"
   ]
  },
  {
   "cell_type": "code",
   "execution_count": 6,
   "metadata": {},
   "outputs": [],
   "source": [
    "text = f\"Matches the empty string, but only when it is not at the beginning or end of a word. This means that r'py\\B' matches 'python', 'py3', 'py2', but not 'py', 'py.', or 'py!'. \\B is just the opposite of \\b, so word characters in Unicode patterns are Unicode alphanumerics or the underscore? although this can be changed by using the ASCII flag. Word boundaries are determined by the current locale if the LOCALE flag is used.\""
   ]
  },
  {
   "cell_type": "code",
   "execution_count": 1,
   "metadata": {},
   "outputs": [],
   "source": [
    "nltk.download('all')"
   ]
  },
  {
   "cell_type": "code",
   "execution_count": 306,
   "metadata": {},
   "outputs": [],
   "source": [
    "from nltk.tokenize import sent_tokenize,word_tokenize"
   ]
  },
  {
   "cell_type": "code",
   "execution_count": 9,
   "metadata": {},
   "outputs": [
    {
     "data": {
      "text/plain": [
       "['Matches the empty string, but only when it is not at the beginning or end of a word.',\n",
       " \"This means that r'py\\\\B' matches 'python', 'py3', 'py2', but not 'py', 'py.\",\n",
       " \"', or 'py!'.\",\n",
       " '\\\\B is just the opposite of \\x08, so word characters in Unicode patterns are Unicode alphanumerics or the underscore?',\n",
       " 'although this can be changed by using the ASCII flag.',\n",
       " 'Word boundaries are determined by the current locale if the LOCALE flag is used.']"
      ]
     },
     "execution_count": 9,
     "metadata": {},
     "output_type": "execute_result"
    }
   ],
   "source": [
    "sent_tokenize(text)"
   ]
  },
  {
   "cell_type": "code",
   "execution_count": 10,
   "metadata": {},
   "outputs": [
    {
     "data": {
      "text/plain": [
       "['Matches',\n",
       " 'the',\n",
       " 'empty',\n",
       " 'string',\n",
       " ',',\n",
       " 'but',\n",
       " 'only',\n",
       " 'when',\n",
       " 'it',\n",
       " 'is',\n",
       " 'not',\n",
       " 'at',\n",
       " 'the',\n",
       " 'beginning',\n",
       " 'or',\n",
       " 'end',\n",
       " 'of',\n",
       " 'a',\n",
       " 'word',\n",
       " '.',\n",
       " 'This',\n",
       " 'means',\n",
       " 'that',\n",
       " \"r'py\\\\B\",\n",
       " \"'\",\n",
       " 'matches',\n",
       " \"'python\",\n",
       " \"'\",\n",
       " ',',\n",
       " \"'py3\",\n",
       " \"'\",\n",
       " ',',\n",
       " \"'py2\",\n",
       " \"'\",\n",
       " ',',\n",
       " 'but',\n",
       " 'not',\n",
       " \"'py\",\n",
       " \"'\",\n",
       " ',',\n",
       " \"'py\",\n",
       " '.',\n",
       " \"'\",\n",
       " ',',\n",
       " 'or',\n",
       " \"'py\",\n",
       " '!',\n",
       " \"'\",\n",
       " '.',\n",
       " '\\\\B',\n",
       " 'is',\n",
       " 'just',\n",
       " 'the',\n",
       " 'opposite',\n",
       " 'of',\n",
       " '\\x08',\n",
       " ',',\n",
       " 'so',\n",
       " 'word',\n",
       " 'characters',\n",
       " 'in',\n",
       " 'Unicode',\n",
       " 'patterns',\n",
       " 'are',\n",
       " 'Unicode',\n",
       " 'alphanumerics',\n",
       " 'or',\n",
       " 'the',\n",
       " 'underscore',\n",
       " '?',\n",
       " 'although',\n",
       " 'this',\n",
       " 'can',\n",
       " 'be',\n",
       " 'changed',\n",
       " 'by',\n",
       " 'using',\n",
       " 'the',\n",
       " 'ASCII',\n",
       " 'flag',\n",
       " '.',\n",
       " 'Word',\n",
       " 'boundaries',\n",
       " 'are',\n",
       " 'determined',\n",
       " 'by',\n",
       " 'the',\n",
       " 'current',\n",
       " 'locale',\n",
       " 'if',\n",
       " 'the',\n",
       " 'LOCALE',\n",
       " 'flag',\n",
       " 'is',\n",
       " 'used',\n",
       " '.']"
      ]
     },
     "execution_count": 10,
     "metadata": {},
     "output_type": "execute_result"
    }
   ],
   "source": [
    "word_token = word_tokenize(text)\n",
    "word_token"
   ]
  },
  {
   "cell_type": "markdown",
   "metadata": {},
   "source": [
    "# Stop Words"
   ]
  },
  {
   "cell_type": "code",
   "execution_count": 307,
   "metadata": {},
   "outputs": [],
   "source": [
    "from nltk.corpus import stopwords"
   ]
  },
  {
   "cell_type": "code",
   "execution_count": 12,
   "metadata": {},
   "outputs": [
    {
     "name": "stdout",
     "output_type": "stream",
     "text": [
      "['i', 'me', 'my', 'myself', 'we', 'our', 'ours', 'ourselves', 'you', \"you're\", \"you've\", \"you'll\", \"you'd\", 'your', 'yours', 'yourself', 'yourselves', 'he', 'him', 'his', 'himself', 'she', \"she's\", 'her', 'hers', 'herself', 'it', \"it's\", 'its', 'itself', 'they', 'them', 'their', 'theirs', 'themselves', 'what', 'which', 'who', 'whom', 'this', 'that', \"that'll\", 'these', 'those', 'am', 'is', 'are', 'was', 'were', 'be', 'been', 'being', 'have', 'has', 'had', 'having', 'do', 'does', 'did', 'doing', 'a', 'an', 'the', 'and', 'but', 'if', 'or', 'because', 'as', 'until', 'while', 'of', 'at', 'by', 'for', 'with', 'about', 'against', 'between', 'into', 'through', 'during', 'before', 'after', 'above', 'below', 'to', 'from', 'up', 'down', 'in', 'out', 'on', 'off', 'over', 'under', 'again', 'further', 'then', 'once', 'here', 'there', 'when', 'where', 'why', 'how', 'all', 'any', 'both', 'each', 'few', 'more', 'most', 'other', 'some', 'such', 'no', 'nor', 'not', 'only', 'own', 'same', 'so', 'than', 'too', 'very', 's', 't', 'can', 'will', 'just', 'don', \"don't\", 'should', \"should've\", 'now', 'd', 'll', 'm', 'o', 're', 've', 'y', 'ain', 'aren', \"aren't\", 'couldn', \"couldn't\", 'didn', \"didn't\", 'doesn', \"doesn't\", 'hadn', \"hadn't\", 'hasn', \"hasn't\", 'haven', \"haven't\", 'isn', \"isn't\", 'ma', 'mightn', \"mightn't\", 'mustn', \"mustn't\", 'needn', \"needn't\", 'shan', \"shan't\", 'shouldn', \"shouldn't\", 'wasn', \"wasn't\", 'weren', \"weren't\", 'won', \"won't\", 'wouldn', \"wouldn't\"]\n"
     ]
    }
   ],
   "source": [
    "print(stopwords.words('english'))"
   ]
  },
  {
   "cell_type": "code",
   "execution_count": 13,
   "metadata": {
    "scrolled": true
   },
   "outputs": [
    {
     "name": "stdout",
     "output_type": "stream",
     "text": [
      "['Matches', 'empty', 'string', ',', 'beginning', 'end', 'word', '.', 'This', 'means', \"r'py\\\\B\", \"'\", 'matches', \"'python\", \"'\", ',', \"'py3\", \"'\", ',', \"'py2\", \"'\", ',', \"'py\", \"'\", ',', \"'py\", '.', \"'\", ',', \"'py\", '!', \"'\", '.', '\\\\B', 'opposite', '\\x08', ',', 'word', 'characters', 'Unicode', 'patterns', 'Unicode', 'alphanumerics', 'underscore', '?', 'although', 'changed', 'using', 'ASCII', 'flag', '.', 'Word', 'boundaries', 'determined', 'current', 'locale', 'LOCALE', 'flag', 'used', '.']\n"
     ]
    }
   ],
   "source": [
    "clean_WT = [word for word in word_token if word not in stopwords.words('english')]\n",
    "print(clean_WT)"
   ]
  },
  {
   "cell_type": "markdown",
   "metadata": {},
   "source": [
    "# Stemming"
   ]
  },
  {
   "cell_type": "code",
   "execution_count": 308,
   "metadata": {},
   "outputs": [],
   "source": [
    "from nltk.stem import PorterStemmer"
   ]
  },
  {
   "cell_type": "code",
   "execution_count": 309,
   "metadata": {},
   "outputs": [],
   "source": [
    "ps = PorterStemmer()"
   ]
  },
  {
   "cell_type": "code",
   "execution_count": 18,
   "metadata": {},
   "outputs": [],
   "source": [
    "example_words = ['earn', 'earned', 'earning', 'earns', 'go', 'gone', 'going', 'history']"
   ]
  },
  {
   "cell_type": "code",
   "execution_count": 19,
   "metadata": {},
   "outputs": [
    {
     "name": "stdout",
     "output_type": "stream",
     "text": [
      "earn\n",
      "earn\n",
      "earn\n",
      "earn\n",
      "go\n",
      "gone\n",
      "go\n",
      "histori\n"
     ]
    }
   ],
   "source": [
    "for w in example_words:\n",
    "    print(ps.stem(w))"
   ]
  },
  {
   "cell_type": "code",
   "execution_count": 20,
   "metadata": {},
   "outputs": [
    {
     "name": "stdout",
     "output_type": "stream",
     "text": [
      "match\n",
      "empti\n",
      "string\n",
      ",\n",
      "begin\n",
      "end\n",
      "word\n",
      ".\n",
      "thi\n",
      "mean\n",
      "r'py\\b\n",
      "'\n",
      "match\n",
      "'python\n",
      "'\n",
      ",\n",
      "'py3\n",
      "'\n",
      ",\n",
      "'py2\n",
      "'\n",
      ",\n",
      "'pi\n",
      "'\n",
      ",\n",
      "'pi\n",
      ".\n",
      "'\n",
      ",\n",
      "'pi\n",
      "!\n",
      "'\n",
      ".\n",
      "\\B\n",
      "opposit\n",
      "\b\n",
      ",\n",
      "word\n",
      "charact\n",
      "unicod\n",
      "pattern\n",
      "unicod\n",
      "alphanumer\n",
      "underscor\n",
      "?\n",
      "although\n",
      "chang\n",
      "use\n",
      "ascii\n",
      "flag\n",
      ".\n",
      "word\n",
      "boundari\n",
      "determin\n",
      "current\n",
      "local\n",
      "local\n",
      "flag\n",
      "use\n",
      ".\n"
     ]
    }
   ],
   "source": [
    "for w in clean_WT:\n",
    "    print(ps.stem(w))"
   ]
  },
  {
   "cell_type": "markdown",
   "metadata": {},
   "source": [
    "# Lemmatizing"
   ]
  },
  {
   "cell_type": "code",
   "execution_count": 310,
   "metadata": {},
   "outputs": [],
   "source": [
    "from nltk.stem import WordNetLemmatizer"
   ]
  },
  {
   "cell_type": "code",
   "execution_count": 311,
   "metadata": {},
   "outputs": [],
   "source": [
    "lemmatizer = WordNetLemmatizer()"
   ]
  },
  {
   "cell_type": "code",
   "execution_count": 23,
   "metadata": {},
   "outputs": [],
   "source": [
    "example_words = ['earn', 'earned', 'earning', 'earns', 'go', 'gone', 'going', 'history']"
   ]
  },
  {
   "cell_type": "code",
   "execution_count": 24,
   "metadata": {},
   "outputs": [
    {
     "name": "stdout",
     "output_type": "stream",
     "text": [
      "earn\n",
      "earned\n",
      "earning\n",
      "earns\n",
      "go\n",
      "gone\n",
      "going\n",
      "history\n"
     ]
    }
   ],
   "source": [
    "for w in example_words: print(lemmatizer.lemmatize(w))"
   ]
  },
  {
   "cell_type": "code",
   "execution_count": 25,
   "metadata": {},
   "outputs": [
    {
     "name": "stdout",
     "output_type": "stream",
     "text": [
      "Matches\n",
      "empty\n",
      "string\n",
      ",\n",
      "beginning\n",
      "end\n",
      "word\n",
      ".\n",
      "This\n",
      "mean\n",
      "r'py\\B\n",
      "'\n",
      "match\n",
      "'python\n",
      "'\n",
      ",\n",
      "'py3\n",
      "'\n",
      ",\n",
      "'py2\n",
      "'\n",
      ",\n",
      "'py\n",
      "'\n",
      ",\n",
      "'py\n",
      ".\n",
      "'\n",
      ",\n",
      "'py\n",
      "!\n",
      "'\n",
      ".\n",
      "\\B\n",
      "opposite\n",
      "\b\n",
      ",\n",
      "word\n",
      "character\n",
      "Unicode\n",
      "pattern\n",
      "Unicode\n",
      "alphanumerics\n",
      "underscore\n",
      "?\n",
      "although\n",
      "changed\n",
      "using\n",
      "ASCII\n",
      "flag\n",
      ".\n",
      "Word\n",
      "boundary\n",
      "determined\n",
      "current\n",
      "locale\n",
      "LOCALE\n",
      "flag\n",
      "used\n",
      ".\n"
     ]
    }
   ],
   "source": [
    "for w in clean_WT: print(lemmatizer.lemmatize(w))"
   ]
  },
  {
   "cell_type": "markdown",
   "metadata": {},
   "source": [
    "# WordNet"
   ]
  },
  {
   "cell_type": "code",
   "execution_count": 312,
   "metadata": {},
   "outputs": [],
   "source": [
    "from nltk.corpus import wordnet"
   ]
  },
  {
   "cell_type": "code",
   "execution_count": 42,
   "metadata": {},
   "outputs": [],
   "source": [
    "synonyms = []\n",
    "antonyms = []\n",
    "\n",
    "for syn in wordnet.synsets(\"happy\"):\n",
    "    for i in syn.lemmas():\n",
    "        synonyms.append(i.name())\n",
    "        if i.antonyms():\n",
    "            antonyms.append(i.antonyms()[0].name())"
   ]
  },
  {
   "cell_type": "code",
   "execution_count": 43,
   "metadata": {
    "scrolled": true
   },
   "outputs": [
    {
     "data": {
      "text/plain": [
       "['happy', 'felicitous', 'happy', 'glad', 'happy', 'happy', 'well-chosen']"
      ]
     },
     "execution_count": 43,
     "metadata": {},
     "output_type": "execute_result"
    }
   ],
   "source": [
    "synonyms"
   ]
  },
  {
   "cell_type": "code",
   "execution_count": 44,
   "metadata": {},
   "outputs": [
    {
     "data": {
      "text/plain": [
       "['unhappy']"
      ]
     },
     "execution_count": 44,
     "metadata": {},
     "output_type": "execute_result"
    }
   ],
   "source": [
    "antonyms"
   ]
  },
  {
   "cell_type": "markdown",
   "metadata": {},
   "source": [
    "# Part of speech tagging"
   ]
  },
  {
   "cell_type": "code",
   "execution_count": 55,
   "metadata": {},
   "outputs": [],
   "source": [
    "text = \"Mr. Sam went to the Australia. He was feeling very happy after meeting his family after a long time.\""
   ]
  },
  {
   "cell_type": "code",
   "execution_count": 56,
   "metadata": {},
   "outputs": [],
   "source": [
    "wt = nltk.word_tokenize(text)"
   ]
  },
  {
   "cell_type": "code",
   "execution_count": 57,
   "metadata": {},
   "outputs": [
    {
     "data": {
      "text/plain": [
       "['Mr.',\n",
       " 'Sam',\n",
       " 'went',\n",
       " 'to',\n",
       " 'the',\n",
       " 'Australia',\n",
       " '.',\n",
       " 'He',\n",
       " 'was',\n",
       " 'feeling',\n",
       " 'very',\n",
       " 'happy',\n",
       " 'after',\n",
       " 'meeting',\n",
       " 'his',\n",
       " 'family',\n",
       " 'after',\n",
       " 'a',\n",
       " 'long',\n",
       " 'time',\n",
       " '.']"
      ]
     },
     "execution_count": 57,
     "metadata": {},
     "output_type": "execute_result"
    }
   ],
   "source": [
    "wt"
   ]
  },
  {
   "cell_type": "code",
   "execution_count": 58,
   "metadata": {},
   "outputs": [],
   "source": [
    "pt = nltk.pos_tag(wt)"
   ]
  },
  {
   "cell_type": "code",
   "execution_count": 59,
   "metadata": {},
   "outputs": [
    {
     "data": {
      "text/plain": [
       "[('Mr.', 'NNP'),\n",
       " ('Sam', 'NNP'),\n",
       " ('went', 'VBD'),\n",
       " ('to', 'TO'),\n",
       " ('the', 'DT'),\n",
       " ('Australia', 'NNP'),\n",
       " ('.', '.'),\n",
       " ('He', 'PRP'),\n",
       " ('was', 'VBD'),\n",
       " ('feeling', 'VBG'),\n",
       " ('very', 'RB'),\n",
       " ('happy', 'JJ'),\n",
       " ('after', 'IN'),\n",
       " ('meeting', 'VBG'),\n",
       " ('his', 'PRP$'),\n",
       " ('family', 'NN'),\n",
       " ('after', 'IN'),\n",
       " ('a', 'DT'),\n",
       " ('long', 'JJ'),\n",
       " ('time', 'NN'),\n",
       " ('.', '.')]"
      ]
     },
     "execution_count": 59,
     "metadata": {},
     "output_type": "execute_result"
    }
   ],
   "source": [
    "pt"
   ]
  },
  {
   "cell_type": "code",
   "execution_count": 49,
   "metadata": {},
   "outputs": [],
   "source": [
    "wo_t = list()"
   ]
  },
  {
   "cell_type": "code",
   "execution_count": 60,
   "metadata": {},
   "outputs": [],
   "source": [
    "for i in pt: wo_t.append(i[0]+\"_\"+i[1])"
   ]
  },
  {
   "cell_type": "code",
   "execution_count": 61,
   "metadata": {},
   "outputs": [
    {
     "data": {
      "text/plain": [
       "['Mr._NNP',\n",
       " 'Sam_NNP',\n",
       " 'went_VBD',\n",
       " 'to_TO',\n",
       " 'the_DT',\n",
       " 'Australia_NNP',\n",
       " '._.',\n",
       " 'He_PRP',\n",
       " 'was_VBD',\n",
       " 'feeling_VBG',\n",
       " 'very_RB',\n",
       " 'happy_JJ',\n",
       " 'after_IN',\n",
       " 'meeting_VBG',\n",
       " 'his_PRP$',\n",
       " 'family_NN',\n",
       " 'after_IN',\n",
       " 'a_DT',\n",
       " 'long_JJ',\n",
       " 'time_NN',\n",
       " '._.',\n",
       " 'Mr._NNP',\n",
       " 'Sam_NNP',\n",
       " 'went_VBD',\n",
       " 'to_TO',\n",
       " 'the_DT',\n",
       " 'Australia_NNP',\n",
       " '._.',\n",
       " 'He_PRP',\n",
       " 'was_VBD',\n",
       " 'feeling_VBG',\n",
       " 'very_RB',\n",
       " 'happy_JJ',\n",
       " 'after_IN',\n",
       " 'meeting_VBG',\n",
       " 'his_PRP$',\n",
       " 'family_NN',\n",
       " 'after_IN',\n",
       " 'a_DT',\n",
       " 'long_JJ',\n",
       " 'time_NN',\n",
       " '._.']"
      ]
     },
     "execution_count": 61,
     "metadata": {},
     "output_type": "execute_result"
    }
   ],
   "source": [
    "wo_t"
   ]
  },
  {
   "cell_type": "code",
   "execution_count": 53,
   "metadata": {},
   "outputs": [
    {
     "data": {
      "text/plain": [
       "'Mr._NNP Sam_NNP went_VBD to_TO the_DT Australia_NNP ._. He_PRP was_VBD feeling_VBG very_RB happy_JJ after_IN meeting_VBG his_PRP$ family_NN after_IN a_DT long_JJ time_NN ._.'"
      ]
     },
     "execution_count": 53,
     "metadata": {},
     "output_type": "execute_result"
    }
   ],
   "source": [
    "\" \".join(wo_t)"
   ]
  },
  {
   "cell_type": "markdown",
   "metadata": {},
   "source": [
    "# Name Entity Recognition"
   ]
  },
  {
   "cell_type": "code",
   "execution_count": 68,
   "metadata": {},
   "outputs": [],
   "source": [
    "text = \"New Delhi is capital of India\""
   ]
  },
  {
   "cell_type": "code",
   "execution_count": 69,
   "metadata": {},
   "outputs": [],
   "source": [
    "wt = nltk.word_tokenize(text)"
   ]
  },
  {
   "cell_type": "code",
   "execution_count": 70,
   "metadata": {},
   "outputs": [],
   "source": [
    "pos_t = nltk.pos_tag(wt)"
   ]
  },
  {
   "cell_type": "code",
   "execution_count": 72,
   "metadata": {},
   "outputs": [
    {
     "data": {
      "text/plain": [
       "[('New', 'NNP'),\n",
       " ('Delhi', 'NNP'),\n",
       " ('is', 'VBZ'),\n",
       " ('capital', 'NN'),\n",
       " ('of', 'IN'),\n",
       " ('India', 'NNP')]"
      ]
     },
     "execution_count": 72,
     "metadata": {},
     "output_type": "execute_result"
    }
   ],
   "source": [
    "pos_t"
   ]
  },
  {
   "cell_type": "code",
   "execution_count": 74,
   "metadata": {},
   "outputs": [
    {
     "data": {
      "text/plain": [
       "nltk.tree.Tree"
      ]
     },
     "execution_count": 74,
     "metadata": {},
     "output_type": "execute_result"
    }
   ],
   "source": [
    "type(nltk.ne_chunk(pos_t))"
   ]
  },
  {
   "cell_type": "code",
   "execution_count": 75,
   "metadata": {},
   "outputs": [
    {
     "name": "stdout",
     "output_type": "stream",
     "text": [
      "(S (GPE New/NNP Delhi/NNP) is/VBZ capital/NN of/IN (GPE India/NNP))\n"
     ]
    }
   ],
   "source": [
    "print(nltk.ne_chunk(pos_t))"
   ]
  },
  {
   "cell_type": "code",
   "execution_count": 226,
   "metadata": {},
   "outputs": [],
   "source": [
    "#!pip install svgling\n",
    "\n",
    "#nltk.download('maxent_ne_chunker')\n",
    "\n",
    "#nltk.download('words')\n",
    "\n",
    "# nltk.ne_chunk(pos_t)"
   ]
  },
  {
   "cell_type": "markdown",
   "metadata": {},
   "source": [
    "# Bag of Words"
   ]
  },
  {
   "cell_type": "code",
   "execution_count": 260,
   "metadata": {},
   "outputs": [],
   "source": [
    "text = \"Given a dataset which contains information compiled by the World Health Organization and the United Nations to track factors that affect life expectancy. This dataset records the life expectancy in countries alongwith attributes such as developing status, adult mortality, BMI, population etc. Design a model to predict the life expectancy based on given attributes. This model will help us to know that which factors are affecting the life expectancy in a country. It will be easier for a country to determine the predicting factor which is contributing to lower value of life expectancy. This will help in suggesting a country which area should be given importance in order to efficiently improve the life expectancy of its population.\""
   ]
  },
  {
   "cell_type": "code",
   "execution_count": 261,
   "metadata": {},
   "outputs": [],
   "source": [
    "dataset = nltk.sent_tokenize(text)"
   ]
  },
  {
   "cell_type": "code",
   "execution_count": 262,
   "metadata": {
    "scrolled": true
   },
   "outputs": [
    {
     "data": {
      "text/plain": [
       "['Given a dataset which contains information compiled by the World Health Organization and the United Nations to track factors that affect life expectancy.',\n",
       " 'This dataset records the life expectancy in countries alongwith attributes such as developing status, adult mortality, BMI, population etc.',\n",
       " 'Design a model to predict the life expectancy based on given attributes.',\n",
       " 'This model will help us to know that which factors are affecting the life expectancy in a country.',\n",
       " 'It will be easier for a country to determine the predicting factor which is contributing to lower value of life expectancy.',\n",
       " 'This will help in suggesting a country which area should be given importance in order to efficiently improve the life expectancy of its population.']"
      ]
     },
     "execution_count": 262,
     "metadata": {},
     "output_type": "execute_result"
    }
   ],
   "source": [
    "dataset"
   ]
  },
  {
   "cell_type": "code",
   "execution_count": 107,
   "metadata": {},
   "outputs": [],
   "source": [
    "#dataset.pop(0)"
   ]
  },
  {
   "cell_type": "code",
   "execution_count": 108,
   "metadata": {},
   "outputs": [
    {
     "data": {
      "text/plain": [
       "6"
      ]
     },
     "execution_count": 108,
     "metadata": {},
     "output_type": "execute_result"
    }
   ],
   "source": [
    "len(dataset)"
   ]
  },
  {
   "cell_type": "code",
   "execution_count": 313,
   "metadata": {},
   "outputs": [],
   "source": [
    "import re"
   ]
  },
  {
   "cell_type": "code",
   "execution_count": 263,
   "metadata": {},
   "outputs": [],
   "source": [
    "for i in range(len(dataset)):\n",
    "    dataset[i] = dataset[i].lower()\n",
    "    dataset[i] = re.sub(r'\\W',\" \", dataset[i])\n",
    "    dataset[i] = re.sub(r'\\s+',\" \", dataset[i])"
   ]
  },
  {
   "cell_type": "code",
   "execution_count": 264,
   "metadata": {},
   "outputs": [
    {
     "data": {
      "text/plain": [
       "['given a dataset which contains information compiled by the world health organization and the united nations to track factors that affect life expectancy ',\n",
       " 'this dataset records the life expectancy in countries alongwith attributes such as developing status adult mortality bmi population etc ',\n",
       " 'design a model to predict the life expectancy based on given attributes ',\n",
       " 'this model will help us to know that which factors are affecting the life expectancy in a country ',\n",
       " 'it will be easier for a country to determine the predicting factor which is contributing to lower value of life expectancy ',\n",
       " 'this will help in suggesting a country which area should be given importance in order to efficiently improve the life expectancy of its population ']"
      ]
     },
     "execution_count": 264,
     "metadata": {},
     "output_type": "execute_result"
    }
   ],
   "source": [
    "dataset"
   ]
  },
  {
   "cell_type": "code",
   "execution_count": 265,
   "metadata": {},
   "outputs": [],
   "source": [
    "wordcnt = {}\n",
    "for data in dataset:\n",
    "    words = nltk.word_tokenize(data)\n",
    "    for word in words:\n",
    "        if word not in wordcnt.keys():\n",
    "            wordcnt[word] = 1\n",
    "        else:\n",
    "            wordcnt[word] += 1"
   ]
  },
  {
   "cell_type": "code",
   "execution_count": 112,
   "metadata": {},
   "outputs": [
    {
     "data": {
      "text/plain": [
       "{'given': 3,\n",
       " 'a': 5,\n",
       " 'dataset': 2,\n",
       " 'which': 4,\n",
       " 'contains': 1,\n",
       " 'information': 1,\n",
       " 'compiled': 1,\n",
       " 'by': 1,\n",
       " 'the': 7,\n",
       " 'world': 1,\n",
       " 'health': 1,\n",
       " 'organization': 1,\n",
       " 'and': 1,\n",
       " 'united': 1,\n",
       " 'nations': 1,\n",
       " 'to': 6,\n",
       " 'track': 1,\n",
       " 'factors': 2,\n",
       " 'that': 2,\n",
       " 'affect': 1,\n",
       " 'life': 6,\n",
       " 'expectancy': 6,\n",
       " 'this': 3,\n",
       " 'records': 1,\n",
       " 'in': 4,\n",
       " 'countries': 1,\n",
       " 'alongwith': 1,\n",
       " 'attributes': 2,\n",
       " 'such': 1,\n",
       " 'as': 1,\n",
       " 'developing': 1,\n",
       " 'status': 1,\n",
       " 'adult': 1,\n",
       " 'mortality': 1,\n",
       " 'bmi': 1,\n",
       " 'population': 2,\n",
       " 'etc': 1,\n",
       " 'design': 1,\n",
       " 'model': 2,\n",
       " 'predict': 1,\n",
       " 'based': 1,\n",
       " 'on': 1,\n",
       " 'will': 3,\n",
       " 'help': 2,\n",
       " 'us': 1,\n",
       " 'know': 1,\n",
       " 'are': 1,\n",
       " 'affecting': 1,\n",
       " 'country': 3,\n",
       " 'it': 1,\n",
       " 'be': 2,\n",
       " 'easier': 1,\n",
       " 'for': 1,\n",
       " 'determine': 1,\n",
       " 'predicting': 1,\n",
       " 'factor': 1,\n",
       " 'is': 1,\n",
       " 'contributing': 1,\n",
       " 'lower': 1,\n",
       " 'value': 1,\n",
       " 'of': 2,\n",
       " 'suggesting': 1,\n",
       " 'area': 1,\n",
       " 'should': 1,\n",
       " 'importance': 1,\n",
       " 'order': 1,\n",
       " 'efficiently': 1,\n",
       " 'improve': 1,\n",
       " 'its': 1}"
      ]
     },
     "execution_count": 112,
     "metadata": {},
     "output_type": "execute_result"
    }
   ],
   "source": [
    "wordcnt"
   ]
  },
  {
   "cell_type": "code",
   "execution_count": 266,
   "metadata": {},
   "outputs": [
    {
     "data": {
      "text/plain": [
       "69"
      ]
     },
     "execution_count": 266,
     "metadata": {},
     "output_type": "execute_result"
    }
   ],
   "source": [
    "len(wordcnt)"
   ]
  },
  {
   "cell_type": "code",
   "execution_count": 267,
   "metadata": {},
   "outputs": [
    {
     "data": {
      "text/plain": [
       "dict_items([('given', 3), ('a', 5), ('dataset', 2), ('which', 4), ('contains', 1), ('information', 1), ('compiled', 1), ('by', 1), ('the', 7), ('world', 1), ('health', 1), ('organization', 1), ('and', 1), ('united', 1), ('nations', 1), ('to', 6), ('track', 1), ('factors', 2), ('that', 2), ('affect', 1), ('life', 6), ('expectancy', 6), ('this', 3), ('records', 1), ('in', 4), ('countries', 1), ('alongwith', 1), ('attributes', 2), ('such', 1), ('as', 1), ('developing', 1), ('status', 1), ('adult', 1), ('mortality', 1), ('bmi', 1), ('population', 2), ('etc', 1), ('design', 1), ('model', 2), ('predict', 1), ('based', 1), ('on', 1), ('will', 3), ('help', 2), ('us', 1), ('know', 1), ('are', 1), ('affecting', 1), ('country', 3), ('it', 1), ('be', 2), ('easier', 1), ('for', 1), ('determine', 1), ('predicting', 1), ('factor', 1), ('is', 1), ('contributing', 1), ('lower', 1), ('value', 1), ('of', 2), ('suggesting', 1), ('area', 1), ('should', 1), ('importance', 1), ('order', 1), ('efficiently', 1), ('improve', 1), ('its', 1)])"
      ]
     },
     "execution_count": 267,
     "metadata": {},
     "output_type": "execute_result"
    }
   ],
   "source": [
    "wordcnt.items()"
   ]
  },
  {
   "cell_type": "code",
   "execution_count": 268,
   "metadata": {
    "scrolled": true
   },
   "outputs": [
    {
     "name": "stdout",
     "output_type": "stream",
     "text": [
      "given 3\n",
      "a 5\n",
      "dataset 2\n",
      "which 4\n",
      "contains 1\n",
      "information 1\n",
      "compiled 1\n",
      "by 1\n",
      "the 7\n",
      "world 1\n",
      "health 1\n",
      "organization 1\n",
      "and 1\n",
      "united 1\n",
      "nations 1\n",
      "to 6\n",
      "track 1\n",
      "factors 2\n",
      "that 2\n",
      "affect 1\n",
      "life 6\n",
      "expectancy 6\n",
      "this 3\n",
      "records 1\n",
      "in 4\n",
      "countries 1\n",
      "alongwith 1\n",
      "attributes 2\n",
      "such 1\n",
      "as 1\n",
      "developing 1\n",
      "status 1\n",
      "adult 1\n",
      "mortality 1\n",
      "bmi 1\n",
      "population 2\n",
      "etc 1\n",
      "design 1\n",
      "model 2\n",
      "predict 1\n",
      "based 1\n",
      "on 1\n",
      "will 3\n",
      "help 2\n",
      "us 1\n",
      "know 1\n",
      "are 1\n",
      "affecting 1\n",
      "country 3\n",
      "it 1\n",
      "be 2\n",
      "easier 1\n",
      "for 1\n",
      "determine 1\n",
      "predicting 1\n",
      "factor 1\n",
      "is 1\n",
      "contributing 1\n",
      "lower 1\n",
      "value 1\n",
      "of 2\n",
      "suggesting 1\n",
      "area 1\n",
      "should 1\n",
      "importance 1\n",
      "order 1\n",
      "efficiently 1\n",
      "improve 1\n",
      "its 1\n"
     ]
    }
   ],
   "source": [
    "for i in wordcnt.items():\n",
    "    print(i[0],i[1])"
   ]
  },
  {
   "cell_type": "code",
   "execution_count": 269,
   "metadata": {
    "scrolled": true
   },
   "outputs": [
    {
     "data": {
      "text/plain": [
       "[('the', 7),\n",
       " ('to', 6),\n",
       " ('life', 6),\n",
       " ('expectancy', 6),\n",
       " ('a', 5),\n",
       " ('which', 4),\n",
       " ('in', 4),\n",
       " ('given', 3),\n",
       " ('this', 3),\n",
       " ('will', 3),\n",
       " ('country', 3),\n",
       " ('dataset', 2),\n",
       " ('factors', 2),\n",
       " ('that', 2),\n",
       " ('attributes', 2),\n",
       " ('population', 2),\n",
       " ('model', 2),\n",
       " ('help', 2),\n",
       " ('be', 2),\n",
       " ('of', 2)]"
      ]
     },
     "execution_count": 269,
     "metadata": {},
     "output_type": "execute_result"
    }
   ],
   "source": [
    "sorted(wordcnt.items(),key=lambda x:x[1], reverse=True)[0:20]"
   ]
  },
  {
   "cell_type": "code",
   "execution_count": 286,
   "metadata": {},
   "outputs": [],
   "source": [
    "x = []"
   ]
  },
  {
   "cell_type": "code",
   "execution_count": 135,
   "metadata": {},
   "outputs": [],
   "source": [
    "for data in dataset:\n",
    "    vector = list()\n",
    "    for word in wordcnt:\n",
    "        if word in nltk.word_tokenize(data): vector.append(1)\n",
    "        else: vector.append(0)\n",
    "    x.append(vector)"
   ]
  },
  {
   "cell_type": "code",
   "execution_count": 273,
   "metadata": {},
   "outputs": [
    {
     "data": {
      "text/plain": [
       "['this',\n",
       " 'will',\n",
       " 'help',\n",
       " 'in',\n",
       " 'suggesting',\n",
       " 'a',\n",
       " 'country',\n",
       " 'which',\n",
       " 'area',\n",
       " 'should',\n",
       " 'be',\n",
       " 'given',\n",
       " 'importance',\n",
       " 'in',\n",
       " 'order',\n",
       " 'to',\n",
       " 'efficiently',\n",
       " 'improve',\n",
       " 'the',\n",
       " 'life',\n",
       " 'expectancy',\n",
       " 'of',\n",
       " 'its',\n",
       " 'population']"
      ]
     },
     "execution_count": 273,
     "metadata": {},
     "output_type": "execute_result"
    }
   ],
   "source": [
    "nltk.word_tokenize(data)"
   ]
  },
  {
   "cell_type": "code",
   "execution_count": 287,
   "metadata": {},
   "outputs": [],
   "source": [
    "for data in dataset:\n",
    "    vector = list()\n",
    "    for word in wordcnt:\n",
    "        count = 0\n",
    "        for i in range(len(nltk.word_tokenize(data))):\n",
    "            if nltk.word_tokenize(data)[i] == word:\n",
    "                count += 1\n",
    "        vector.append(count)\n",
    "    x.append(vector)"
   ]
  },
  {
   "cell_type": "code",
   "execution_count": 288,
   "metadata": {},
   "outputs": [
    {
     "data": {
      "text/plain": [
       "array([[1, 1, 1, 1, 1, 1, 1, 1, 2, 1, 1, 1, 1, 1, 1, 1, 1, 1, 1, 1, 1, 1,\n",
       "        0, 0, 0, 0, 0, 0, 0, 0, 0, 0, 0, 0, 0, 0, 0, 0, 0, 0, 0, 0, 0, 0,\n",
       "        0, 0, 0, 0, 0, 0, 0, 0, 0, 0, 0, 0, 0, 0, 0, 0, 0, 0, 0, 0, 0, 0,\n",
       "        0, 0, 0],\n",
       "       [0, 0, 1, 0, 0, 0, 0, 0, 1, 0, 0, 0, 0, 0, 0, 0, 0, 0, 0, 0, 1, 1,\n",
       "        1, 1, 1, 1, 1, 1, 1, 1, 1, 1, 1, 1, 1, 1, 1, 0, 0, 0, 0, 0, 0, 0,\n",
       "        0, 0, 0, 0, 0, 0, 0, 0, 0, 0, 0, 0, 0, 0, 0, 0, 0, 0, 0, 0, 0, 0,\n",
       "        0, 0, 0],\n",
       "       [1, 1, 0, 0, 0, 0, 0, 0, 1, 0, 0, 0, 0, 0, 0, 1, 0, 0, 0, 0, 1, 1,\n",
       "        0, 0, 0, 0, 0, 1, 0, 0, 0, 0, 0, 0, 0, 0, 0, 1, 1, 1, 1, 1, 0, 0,\n",
       "        0, 0, 0, 0, 0, 0, 0, 0, 0, 0, 0, 0, 0, 0, 0, 0, 0, 0, 0, 0, 0, 0,\n",
       "        0, 0, 0],\n",
       "       [0, 1, 0, 1, 0, 0, 0, 0, 1, 0, 0, 0, 0, 0, 0, 1, 0, 1, 1, 0, 1, 1,\n",
       "        1, 0, 1, 0, 0, 0, 0, 0, 0, 0, 0, 0, 0, 0, 0, 0, 1, 0, 0, 0, 1, 1,\n",
       "        1, 1, 1, 1, 1, 0, 0, 0, 0, 0, 0, 0, 0, 0, 0, 0, 0, 0, 0, 0, 0, 0,\n",
       "        0, 0, 0],\n",
       "       [0, 1, 0, 1, 0, 0, 0, 0, 1, 0, 0, 0, 0, 0, 0, 2, 0, 0, 0, 0, 1, 1,\n",
       "        0, 0, 0, 0, 0, 0, 0, 0, 0, 0, 0, 0, 0, 0, 0, 0, 0, 0, 0, 0, 1, 0,\n",
       "        0, 0, 0, 0, 1, 1, 1, 1, 1, 1, 1, 1, 1, 1, 1, 1, 1, 0, 0, 0, 0, 0,\n",
       "        0, 0, 0],\n",
       "       [1, 1, 0, 1, 0, 0, 0, 0, 1, 0, 0, 0, 0, 0, 0, 1, 0, 0, 0, 0, 1, 1,\n",
       "        1, 0, 2, 0, 0, 0, 0, 0, 0, 0, 0, 0, 0, 1, 0, 0, 0, 0, 0, 0, 1, 1,\n",
       "        0, 0, 0, 0, 1, 0, 1, 0, 0, 0, 0, 0, 0, 0, 0, 0, 1, 1, 1, 1, 1, 1,\n",
       "        1, 1, 1]])"
      ]
     },
     "execution_count": 288,
     "metadata": {},
     "output_type": "execute_result"
    }
   ],
   "source": [
    "np.array(x)"
   ]
  },
  {
   "cell_type": "markdown",
   "metadata": {},
   "source": [
    "## Using Sklearn"
   ]
  },
  {
   "cell_type": "code",
   "execution_count": 314,
   "metadata": {},
   "outputs": [],
   "source": [
    "sent = pd.DataFrame(['he is a good boy', 'she is a good girl', 'boy and girl are good boy girl'], columns=['text'])"
   ]
  },
  {
   "cell_type": "code",
   "execution_count": 315,
   "metadata": {},
   "outputs": [],
   "source": [
    "corpus = list()"
   ]
  },
  {
   "cell_type": "code",
   "execution_count": 316,
   "metadata": {},
   "outputs": [],
   "source": [
    "for i in range(0,3):\n",
    "    words = sent['text'][i]\n",
    "    words = word_tokenize(words)\n",
    "    texts = [lemmatizer.lemmatize(w) for w in words if w not in stopwords.words('english')]\n",
    "    text = ' '.join(texts)\n",
    "    corpus.append(text)"
   ]
  },
  {
   "cell_type": "code",
   "execution_count": 317,
   "metadata": {},
   "outputs": [
    {
     "data": {
      "text/plain": [
       "'boy girl good boy girl'"
      ]
     },
     "execution_count": 317,
     "metadata": {},
     "output_type": "execute_result"
    }
   ],
   "source": [
    "text"
   ]
  },
  {
   "cell_type": "code",
   "execution_count": 318,
   "metadata": {},
   "outputs": [],
   "source": [
    "from sklearn.feature_extraction.text import CountVectorizer"
   ]
  },
  {
   "cell_type": "code",
   "execution_count": 320,
   "metadata": {},
   "outputs": [],
   "source": [
    "cv = CountVectorizer()"
   ]
  },
  {
   "cell_type": "code",
   "execution_count": 321,
   "metadata": {},
   "outputs": [],
   "source": [
    "x = cv.fit_transform(corpus).toarray()"
   ]
  },
  {
   "cell_type": "code",
   "execution_count": 322,
   "metadata": {},
   "outputs": [
    {
     "data": {
      "text/plain": [
       "array([[1, 0, 1],\n",
       "       [0, 1, 1],\n",
       "       [2, 2, 1]], dtype=int64)"
      ]
     },
     "execution_count": 322,
     "metadata": {},
     "output_type": "execute_result"
    }
   ],
   "source": [
    "x"
   ]
  },
  {
   "cell_type": "markdown",
   "metadata": {},
   "source": [
    "# Working with PDF"
   ]
  },
  {
   "cell_type": "code",
   "execution_count": 2,
   "metadata": {},
   "outputs": [],
   "source": [
    "# !pip install PyPDF2"
   ]
  },
  {
   "cell_type": "code",
   "execution_count": 323,
   "metadata": {},
   "outputs": [],
   "source": [
    "import PyPDF2"
   ]
  },
  {
   "cell_type": "code",
   "execution_count": 290,
   "metadata": {},
   "outputs": [],
   "source": [
    "f = open('sample.pdf', 'rb')"
   ]
  },
  {
   "cell_type": "code",
   "execution_count": 291,
   "metadata": {},
   "outputs": [],
   "source": [
    "pdf_reader = PyPDF2.PdfFileReader(f)"
   ]
  },
  {
   "cell_type": "code",
   "execution_count": 154,
   "metadata": {},
   "outputs": [
    {
     "data": {
      "text/plain": [
       "2"
      ]
     },
     "execution_count": 154,
     "metadata": {},
     "output_type": "execute_result"
    }
   ],
   "source": [
    "pdf_reader.numPages"
   ]
  },
  {
   "cell_type": "code",
   "execution_count": 155,
   "metadata": {},
   "outputs": [],
   "source": [
    "page_one = pdf_reader.getPage(0)"
   ]
  },
  {
   "cell_type": "code",
   "execution_count": 156,
   "metadata": {},
   "outputs": [
    {
     "data": {
      "text/plain": [
       "PyPDF2.pdf.PageObject"
      ]
     },
     "execution_count": 156,
     "metadata": {},
     "output_type": "execute_result"
    }
   ],
   "source": [
    "type(page_one)"
   ]
  },
  {
   "cell_type": "code",
   "execution_count": 157,
   "metadata": {},
   "outputs": [
    {
     "data": {
      "text/plain": [
       "' A Simple PDF File  This is a small demonstration .pdf file -  just for use in the Virtual Mechanics tutorials. More text. And more  text. And more text. And more text. And more text.  And more text. And more text. And more text. And more text. And more  text. And more text. Boring, zzzzz. And more text. And more text. And  more text. And more text. And more text. And more text. And more text.  And more text. And more text.  And more text. And more text. And more text. And more text. And more  text. And more text. And more text. Even more. Continued on page 2 ...'"
      ]
     },
     "execution_count": 157,
     "metadata": {},
     "output_type": "execute_result"
    }
   ],
   "source": [
    "page_one.extractText()"
   ]
  },
  {
   "cell_type": "code",
   "execution_count": 158,
   "metadata": {},
   "outputs": [],
   "source": [
    "f.close()"
   ]
  },
  {
   "cell_type": "markdown",
   "metadata": {},
   "source": [
    "### Adding to PDF"
   ]
  },
  {
   "cell_type": "code",
   "execution_count": 159,
   "metadata": {},
   "outputs": [],
   "source": [
    "f = open('sample.pdf', 'rb')"
   ]
  },
  {
   "cell_type": "code",
   "execution_count": 160,
   "metadata": {},
   "outputs": [],
   "source": [
    "pdf_reader = PyPDF2.PdfFileReader(f)"
   ]
  },
  {
   "cell_type": "code",
   "execution_count": 161,
   "metadata": {},
   "outputs": [],
   "source": [
    "first_page = pdf_reader.getPage(0)"
   ]
  },
  {
   "cell_type": "code",
   "execution_count": 162,
   "metadata": {},
   "outputs": [],
   "source": [
    "pdf_writer = PyPDF2.PdfFileWriter()"
   ]
  },
  {
   "cell_type": "code",
   "execution_count": 163,
   "metadata": {},
   "outputs": [],
   "source": [
    "pdf_writer.addPage(first_page)"
   ]
  },
  {
   "cell_type": "code",
   "execution_count": 164,
   "metadata": {},
   "outputs": [],
   "source": [
    "pdf_output = open(\"some_new_pdf_file.pdf\", 'wb')"
   ]
  },
  {
   "cell_type": "code",
   "execution_count": 165,
   "metadata": {},
   "outputs": [],
   "source": [
    "pdf_writer.write(pdf_output)"
   ]
  },
  {
   "cell_type": "code",
   "execution_count": 166,
   "metadata": {},
   "outputs": [],
   "source": [
    "pdf_output.close()"
   ]
  },
  {
   "cell_type": "code",
   "execution_count": 167,
   "metadata": {},
   "outputs": [],
   "source": [
    "f.close()"
   ]
  },
  {
   "cell_type": "markdown",
   "metadata": {},
   "source": [
    "# Exercise"
   ]
  },
  {
   "cell_type": "code",
   "execution_count": 331,
   "metadata": {},
   "outputs": [],
   "source": [
    "f = open('sample.pdf', 'rb')"
   ]
  },
  {
   "cell_type": "code",
   "execution_count": 332,
   "metadata": {},
   "outputs": [],
   "source": [
    "pdf_reader = PyPDF2.PdfFileReader(f)"
   ]
  },
  {
   "cell_type": "code",
   "execution_count": 333,
   "metadata": {},
   "outputs": [],
   "source": [
    "text = ''\n",
    "for i in range(pdf_reader.numPages):\n",
    "    text += pdf_reader.getPage(i).extractText()"
   ]
  },
  {
   "cell_type": "code",
   "execution_count": 334,
   "metadata": {},
   "outputs": [
    {
     "data": {
      "text/plain": [
       "' A Simple PDF File  This is a small demonstration .pdf file -  just for use in the Virtual Mechanics tutorials. More text. And more  text. And more text. And more text. And more text.  And more text. And more text. And more text. And more text. And more  text. And more text. Boring, zzzzz. And more text. And more text. And  more text. And more text. And more text. And more text. And more text.  And more text. And more text.  And more text. And more text. And more text. And more text. And more  text. And more text. And more text. Even more. Continued on page 2 ... Simple PDF File 2  ...continued from page 1. Yet more text. And more text. And more text.  And more text. And more text. And more text. And more text. And more  text. Oh, how boring typing this stuff. But not as boring as watching  paint dry. And more text. And more text. And more text. And more text.  Boring.  More, a little more text. The end, and just as well. '"
      ]
     },
     "execution_count": 334,
     "metadata": {},
     "output_type": "execute_result"
    }
   ],
   "source": [
    "text"
   ]
  },
  {
   "cell_type": "code",
   "execution_count": 335,
   "metadata": {},
   "outputs": [],
   "source": [
    "dataset = nltk.sent_tokenize(text)"
   ]
  },
  {
   "cell_type": "code",
   "execution_count": 336,
   "metadata": {},
   "outputs": [],
   "source": [
    "for i in range(len(dataset)):\n",
    "    dataset[i] = dataset[i].lower()\n",
    "    dataset[i] = re.sub(r'\\W',\" \", dataset[i])\n",
    "    dataset[i] = re.sub(r'\\s+',\" \", dataset[i])"
   ]
  },
  {
   "cell_type": "code",
   "execution_count": 337,
   "metadata": {},
   "outputs": [
    {
     "name": "stdout",
     "output_type": "stream",
     "text": [
      "[' a simple pdf file this is a small demonstration pdf file just for use in the virtual mechanics tutorials ', 'more text ', 'and more text ', 'and more text ', 'and more text ', 'and more text ', 'and more text ', 'and more text ', 'and more text ', 'and more text ', 'and more text ', 'and more text ', 'boring zzzzz ', 'and more text ', 'and more text ', 'and more text ', 'and more text ', 'and more text ', 'and more text ', 'and more text ', 'and more text ', 'and more text ', 'and more text ', 'and more text ', 'and more text ', 'and more text ', 'and more text ', 'and more text ', 'and more text ', 'even more ', 'continued on page 2 ', 'simple pdf file 2 continued from page 1 ', 'yet more text ', 'and more text ', 'and more text ', 'and more text ', 'and more text ', 'and more text ', 'and more text ', 'and more text ', 'oh how boring typing this stuff ', 'but not as boring as watching paint dry ', 'and more text ', 'and more text ', 'and more text ', 'and more text ', 'boring ', 'more a little more text ', 'the end and just as well ']\n"
     ]
    }
   ],
   "source": [
    "print(dataset)"
   ]
  },
  {
   "cell_type": "markdown",
   "metadata": {},
   "source": [
    "### StopWords"
   ]
  },
  {
   "cell_type": "code",
   "execution_count": 367,
   "metadata": {},
   "outputs": [
    {
     "name": "stdout",
     "output_type": "stream",
     "text": [
      "['simple', 'pdf', 'file', 'small', 'demonstration', 'pdf', 'file', 'use', 'virtual', 'mechanics', 'tutorials', 'text', 'text', 'text', 'text', 'text', 'text', 'text', 'text', 'text', 'text', 'text', 'boring', 'zzzzz', 'text', 'text', 'text', 'text', 'text', 'text', 'text', 'text', 'text', 'text', 'text', 'text', 'text', 'text', 'text', 'text', 'even', 'continued', 'page', '2', 'simple', 'pdf', 'file', '2', 'continued', 'page', '1', 'yet', 'text', 'text', 'text', 'text', 'text', 'text', 'text', 'text', 'oh', 'boring', 'typing', 'stuff', 'boring', 'watching', 'paint', 'dry', 'text', 'text', 'text', 'text', 'boring', 'little', 'text', 'end', 'well']\n"
     ]
    }
   ],
   "source": [
    "clean_WT = []\n",
    "for data in dataset:\n",
    "    for word in nltk.word_tokenize(data):\n",
    "        if word not in stopwords.words('english'):\n",
    "            clean_WT.append(word)\n",
    "print(clean_WT)"
   ]
  },
  {
   "attachments": {},
   "cell_type": "markdown",
   "metadata": {},
   "source": [
    "### Bag of Words"
   ]
  },
  {
   "cell_type": "code",
   "execution_count": 387,
   "metadata": {},
   "outputs": [],
   "source": [
    "wordcnt = {}\n",
    "for data in clean_WT:\n",
    "    words = nltk.word_tokenize(data)\n",
    "    for word in words:\n",
    "        if re.match(\"\\\\b([a-zA-Z0-9])\\\\1\\\\1+\\\\b\", word):\n",
    "            continue\n",
    "        if word not in wordcnt.keys():\n",
    "            wordcnt[word] = 1\n",
    "        else:\n",
    "            wordcnt[word] += 1"
   ]
  },
  {
   "cell_type": "code",
   "execution_count": 388,
   "metadata": {},
   "outputs": [
    {
     "name": "stdout",
     "output_type": "stream",
     "text": [
      "41 {'a': 3, 'simple': 2, 'pdf': 3, 'file': 3, 'this': 2, 'is': 1, 'small': 1, 'demonstration': 1, 'just': 2, 'for': 1, 'use': 1, 'in': 1, 'the': 2, 'virtual': 1, 'mechanics': 1, 'tutorials': 1, 'more': 42, 'text': 40, 'and': 38, 'boring': 4, 'even': 1, 'continued': 2, 'on': 1, 'page': 2, '2': 2, 'from': 1, '1': 1, 'yet': 1, 'oh': 1, 'how': 1, 'typing': 1, 'stuff': 1, 'but': 1, 'not': 1, 'as': 3, 'watching': 1, 'paint': 1, 'dry': 1, 'little': 1, 'end': 1, 'well': 1}\n"
     ]
    }
   ],
   "source": [
    "print(len(wordcnt),wordcnt)"
   ]
  },
  {
   "cell_type": "code",
   "execution_count": 383,
   "metadata": {},
   "outputs": [],
   "source": [
    "#sorted(wordcnt.items(),key=lambda x:x[1], reverse=True)[0:20]"
   ]
  },
  {
   "cell_type": "markdown",
   "metadata": {},
   "source": [
    "### Converting in array"
   ]
  },
  {
   "cell_type": "code",
   "execution_count": 374,
   "metadata": {},
   "outputs": [],
   "source": [
    "x = list()"
   ]
  },
  {
   "cell_type": "code",
   "execution_count": 375,
   "metadata": {},
   "outputs": [],
   "source": [
    "x = list()\n",
    "for data in clean_WT:\n",
    "    vector = list()\n",
    "    for word in wordcnt:\n",
    "        count = 0\n",
    "        for i in range(len(nltk.word_tokenize(data))):\n",
    "            if nltk.word_tokenize(data)[i] == word:\n",
    "                count += 1\n",
    "        vector.append(count)\n",
    "    x.append(vector)"
   ]
  },
  {
   "cell_type": "code",
   "execution_count": 376,
   "metadata": {},
   "outputs": [
    {
     "name": "stdout",
     "output_type": "stream",
     "text": [
      "[[1 0 0 ... 0 0 0]\n",
      " [0 1 0 ... 0 0 0]\n",
      " [0 0 1 ... 0 0 0]\n",
      " ...\n",
      " [0 0 0 ... 0 0 0]\n",
      " [0 0 0 ... 0 1 0]\n",
      " [0 0 0 ... 0 0 1]]\n"
     ]
    }
   ],
   "source": [
    "print(np.array(x))"
   ]
  },
  {
   "cell_type": "markdown",
   "metadata": {},
   "source": [
    "### Histogram of Word Count"
   ]
  },
  {
   "cell_type": "code",
   "execution_count": 377,
   "metadata": {
    "scrolled": false
   },
   "outputs": [
    {
     "data": {
      "text/plain": [
       "<BarContainer object of 26 artists>"
      ]
     },
     "execution_count": 377,
     "metadata": {},
     "output_type": "execute_result"
    },
    {
     "data": {
      "image/png": "[encoded data removed]",
      "text/plain": [
       "<Figure size 1440x360 with 1 Axes>"
      ]
     },
     "metadata": {
      "needs_background": "light"
     },
     "output_type": "display_data"
    }
   ],
   "source": [
    "import matplotlib.pyplot as plt\n",
    "plt.figure(figsize=(20,5))\n",
    "plt.bar(wordcnt.keys(), wordcnt.values())"
   ]
  },
  {
   "cell_type": "markdown",
   "metadata": {},
   "source": [
    "### TF-IDF Vector"
   ]
  },
  {
   "cell_type": "code",
   "execution_count": 393,
   "metadata": {},
   "outputs": [],
   "source": [
    "y = {}\n",
    "for word in wordcnt:\n",
    "    vector1 = list()\n",
    "    for data in clean_WT:\n",
    "        count = 0\n",
    "        for i in nltk.word_tokenize(data):\n",
    "            if i == word:\n",
    "                count += 1\n",
    "        tf_word = round(count/len(nltk.word_tokenize(data)),3)\n",
    "        vector1.append(tf_word)\n",
    "    y[word] = vector1"
   ]
  },
  {
   "cell_type": "code",
   "execution_count": 397,
   "metadata": {},
   "outputs": [],
   "source": [
    "z = {}\n",
    "for word in wordcnt:\n",
    "    doc_count = 0\n",
    "    for data in clean_WT:\n",
    "        if word in nltk.word_tokenize(data):\n",
    "            doc_count += 1\n",
    "    z[word] = round(np.log(len(clean_WT)/doc_count),3)"
   ]
  },
  {
   "cell_type": "code",
   "execution_count": 400,
   "metadata": {},
   "outputs": [],
   "source": [
    "a = []\n",
    "for word in y.keys():\n",
    "    tfidf = []\n",
    "    \n",
    "    for value in y[word]:\n",
    "        score = value*z[word]\n",
    "        tfidf.append(score)\n",
    "        \n",
    "    a.append(tfidf)"
   ]
  },
  {
   "cell_type": "code",
   "execution_count": 402,
   "metadata": {},
   "outputs": [
    {
     "data": {
      "text/plain": [
       "array([[0.335895, 0.      , 0.      , ..., 0.      , 0.6398  , 0.      ],\n",
       "       [0.169547, 0.      , 0.      , ..., 0.      , 0.      , 0.      ],\n",
       "       [0.335895, 0.      , 0.      , ..., 0.      , 0.      , 0.      ],\n",
       "       ...,\n",
       "       [0.      , 0.      , 0.      , ..., 0.      , 0.7784  , 0.      ],\n",
       "       [0.      , 0.      , 0.      , ..., 0.      , 0.      , 0.649964],\n",
       "       [0.      , 0.      , 0.      , ..., 0.      , 0.      , 0.649964]])"
      ]
     },
     "execution_count": 402,
     "metadata": {},
     "output_type": "execute_result"
    }
   ],
   "source": [
    "np.array(a)"
   ]
  }
 ],
 "metadata": {
  "kernelspec": {
   "display_name": "Python 3",
   "language": "python",
   "name": "python3"
  },
  "language_info": {
   "codemirror_mode": {
    "name": "ipython",
    "version": 3
   },
   "file_extension": ".py",
   "mimetype": "text/x-python",
   "name": "python",
   "nbconvert_exporter": "python",
   "pygments_lexer": "ipython3",
   "version": "3.8.1"
  },
  "vscode": {
   "interpreter": {
    "hash": "07d792be6b57be6706d062b64748ace5f7e7b33f6afbc78bdfd04c27fd7929d9"
   }
  }
 },
 "nbformat": 4,
 "nbformat_minor": 4
}
