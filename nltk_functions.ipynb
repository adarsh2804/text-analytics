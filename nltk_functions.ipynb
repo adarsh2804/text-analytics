{
 "cells": [
  {
   "cell_type": "markdown",
   "metadata": {},
   "source": [
    "# Introduction to NLP with NLTK\n",
    "\n",
    "NLTK is an excellent library for machine-learning based NLP, written in Python by experts from both academia and industry. Python allows you to create rich data applications rapidly, iterating on hypotheses. The combination of Python + NLTK means that you can easily add language-aware data products to your larger analytical workflows and applications.\n"
   ]
  },
  {
   "cell_type": "markdown",
   "metadata": {},
   "source": [
    "## Quick Overview of NLTK\n",
    "\n",
    "NLTK stands for the Natural Language Toolkit and is written by two eminent computational linguists, Steven Bird (Senior Research Associate of the LDC and professor at the University of Melbourne) and Ewan Klein (Professor of Linguistics at Edinburgh University). NTLK provides a combination of natural language corpora, lexical resources, and example grammars with language processing algorithms, methodologies and demonstrations for a very pythonic \"batteries included\" view of Natural Language Processing.\n",
    "\n",
    "As such, NLTK is perfect for researh driven (hypothesis driven) workflows for agile data science. Its suite of libraries includes:\n",
    "\n",
    "    tokenization, stemming, and tagging\n",
    "    chunking and parsing\n",
    "    language modeling\n",
    "    classification and clustering\n",
    "    logical semantics\n",
    "\n",
    "NLTK is a useful pedagogical resource for learning NLP with Python and serves as a starting place for producing production grade code that requires natural language analysis. It is also important to understand what NLTK is not:\n",
    "\n",
    "    Production ready out of the box\n",
    "    Lightweight\n",
    "    Generally applicable\n",
    "    Magic\n"
   ]
  },
  {
   "cell_type": "code",
   "execution_count": null,
   "metadata": {},
   "outputs": [],
   "source": [
    "#!pip3 install nltk"
   ]
  },
  {
   "cell_type": "code",
   "execution_count": null,
   "metadata": {},
   "outputs": [],
   "source": [
    "nltk.download('all')"
   ]
  },
  {
   "cell_type": "markdown",
   "metadata": {},
   "source": [
    "### 1. Tokenization\n",
    "\n",
    "Tokenization is the process of dividing the whole text into tokens.\n",
    "\n",
    "It is mainly of two types:\n",
    "\n",
    "    Word Tokenizer (separated by words)\n",
    "    Sentence Tokenizer (separated by sentence)"
   ]
  },
  {
   "cell_type": "code",
   "execution_count": 58,
   "metadata": {},
   "outputs": [],
   "source": [
    "text = f\"\"\" NLTK stands for the Natural Language Toolkit and is written by two eminent computational. linguists, \n",
    "            Steven Bird (Senior Research Associate of the LDC and professor at the University?\n",
    "            of Melbourne) and Ewan Klein (Professor of Linguistics at Edinburgh University). \n",
    "            NTLK provides a combination of natural language corpora, lexical resources, \n",
    "            and example grammars with language processing algorithms, \n",
    "            methodologies and demonstrations for a very pythonic batteries included \n",
    "            view of Natural Language Processing.\"\"\""
   ]
  },
  {
   "cell_type": "code",
   "execution_count": 1,
   "metadata": {},
   "outputs": [],
   "source": [
    "import nltk"
   ]
  },
  {
   "cell_type": "code",
   "execution_count": 2,
   "metadata": {},
   "outputs": [],
   "source": [
    "from nltk.tokenize import sent_tokenize,word_tokenize"
   ]
  },
  {
   "cell_type": "code",
   "execution_count": 10,
   "metadata": {},
   "outputs": [
    {
     "data": {
      "text/plain": [
       "[' NLTK stands for the Natural Language Toolkit and is written by two eminent computational.',\n",
       " 'linguists, \\n            Steven Bird (Senior Research Associate of the LDC and professor at the University?',\n",
       " 'of Melbourne) and Ewan Klein (Professor of Linguistics at Edinburgh University).',\n",
       " 'NTLK provides a combination of natural language corpora, lexical resources, \\n            and example grammars with language processing algorithms, \\n            methodologies and demonstrations for a very pythonic batteries included \\n            view of Natural Language Processing.']"
      ]
     },
     "execution_count": 10,
     "metadata": {},
     "output_type": "execute_result"
    }
   ],
   "source": [
    "sent_tokenize(text)"
   ]
  },
  {
   "cell_type": "code",
   "execution_count": 15,
   "metadata": {},
   "outputs": [],
   "source": [
    "wrd_tkn = word_tokenize(text)"
   ]
  },
  {
   "cell_type": "code",
   "execution_count": 16,
   "metadata": {
    "scrolled": true
   },
   "outputs": [
    {
     "data": {
      "text/plain": [
       "['NLTK',\n",
       " 'stands',\n",
       " 'for',\n",
       " 'the',\n",
       " 'Natural',\n",
       " 'Language',\n",
       " 'Toolkit',\n",
       " 'and',\n",
       " 'is',\n",
       " 'written',\n",
       " 'by',\n",
       " 'two',\n",
       " 'eminent',\n",
       " 'computational',\n",
       " '.',\n",
       " 'linguists',\n",
       " ',',\n",
       " 'Steven',\n",
       " 'Bird',\n",
       " '(',\n",
       " 'Senior',\n",
       " 'Research',\n",
       " 'Associate',\n",
       " 'of',\n",
       " 'the',\n",
       " 'LDC',\n",
       " 'and',\n",
       " 'professor',\n",
       " 'at',\n",
       " 'the',\n",
       " 'University',\n",
       " '?',\n",
       " 'of',\n",
       " 'Melbourne',\n",
       " ')',\n",
       " 'and',\n",
       " 'Ewan',\n",
       " 'Klein',\n",
       " '(',\n",
       " 'Professor',\n",
       " 'of',\n",
       " 'Linguistics',\n",
       " 'at',\n",
       " 'Edinburgh',\n",
       " 'University',\n",
       " ')',\n",
       " '.',\n",
       " 'NTLK',\n",
       " 'provides',\n",
       " 'a',\n",
       " 'combination',\n",
       " 'of',\n",
       " 'natural',\n",
       " 'language',\n",
       " 'corpora',\n",
       " ',',\n",
       " 'lexical',\n",
       " 'resources',\n",
       " ',',\n",
       " 'and',\n",
       " 'example',\n",
       " 'grammars',\n",
       " 'with',\n",
       " 'language',\n",
       " 'processing',\n",
       " 'algorithms',\n",
       " ',',\n",
       " 'methodologies',\n",
       " 'and',\n",
       " 'demonstrations',\n",
       " 'for',\n",
       " 'a',\n",
       " 'very',\n",
       " 'pythonic',\n",
       " 'batteries',\n",
       " 'included',\n",
       " 'view',\n",
       " 'of',\n",
       " 'Natural',\n",
       " 'Language',\n",
       " 'Processing',\n",
       " '.']"
      ]
     },
     "execution_count": 16,
     "metadata": {},
     "output_type": "execute_result"
    }
   ],
   "source": [
    "wrd_tkn"
   ]
  },
  {
   "cell_type": "markdown",
   "metadata": {},
   "source": [
    "### 2. Stopwords\n",
    "\n",
    "In general stopwords are the words in any language which does not add much meaning to a sentence. In NLP stopwords are those words which are not important in analyzing the data.\n",
    "Example : he,she,hi,and etc.\n",
    "Our main task is to remove all the stopwords for the text to do any further processing.\n",
    "\n",
    "There are a total of 179 stopwords in English, using NLTK we can see all the stopwords in English.\n",
    "We Just need to import stopwords from the library nltk.corpus ."
   ]
  },
  {
   "cell_type": "code",
   "execution_count": 102,
   "metadata": {},
   "outputs": [],
   "source": [
    "from nltk.corpus import stopwords"
   ]
  },
  {
   "cell_type": "code",
   "execution_count": null,
   "metadata": {},
   "outputs": [],
   "source": [
    "clean_wrd_tkns = [word for word in wrd_tkn if word not in stopwords.words('english')]"
   ]
  },
  {
   "cell_type": "code",
   "execution_count": 21,
   "metadata": {},
   "outputs": [
    {
     "name": "stdout",
     "output_type": "stream",
     "text": [
      "['NLTK', 'stands', 'for', 'the', 'Natural', 'Language', 'Toolkit', 'and', 'is', 'written', 'by', 'two', 'eminent', 'computational', '.', 'linguists', ',', 'Steven', 'Bird', '(', 'Senior', 'Research', 'Associate', 'of', 'the', 'LDC', 'and', 'professor', 'at', 'the', 'University', '?', 'of', 'Melbourne', ')', 'and', 'Ewan', 'Klein', '(', 'Professor', 'of', 'Linguistics', 'at', 'Edinburgh', 'University', ')', '.', 'NTLK', 'provides', 'a', 'combination', 'of', 'natural', 'language', 'corpora', ',', 'lexical', 'resources', ',', 'and', 'example', 'grammars', 'with', 'language', 'processing', 'algorithms', ',', 'methodologies', 'and', 'demonstrations', 'for', 'a', 'very', 'pythonic', 'batteries', 'included', 'view', 'of', 'Natural', 'Language', 'Processing', '.']\n"
     ]
    }
   ],
   "source": [
    "print(wrd_tkn)"
   ]
  },
  {
   "cell_type": "code",
   "execution_count": 20,
   "metadata": {},
   "outputs": [
    {
     "name": "stdout",
     "output_type": "stream",
     "text": [
      "['NLTK', 'stands', 'Natural', 'Language', 'Toolkit', 'written', 'two', 'eminent', 'computational', '.', 'linguists', ',', 'Steven', 'Bird', '(', 'Senior', 'Research', 'Associate', 'LDC', 'professor', 'University', '?', 'Melbourne', ')', 'Ewan', 'Klein', '(', 'Professor', 'Linguistics', 'Edinburgh', 'University', ')', '.', 'NTLK', 'provides', 'combination', 'natural', 'language', 'corpora', ',', 'lexical', 'resources', ',', 'example', 'grammars', 'language', 'processing', 'algorithms', ',', 'methodologies', 'demonstrations', 'pythonic', 'batteries', 'included', 'view', 'Natural', 'Language', 'Processing', '.']\n"
     ]
    }
   ],
   "source": [
    "print(clean_wrd_tkns)"
   ]
  },
  {
   "cell_type": "code",
   "execution_count": null,
   "metadata": {},
   "outputs": [],
   "source": []
  },
  {
   "cell_type": "markdown",
   "metadata": {},
   "source": [
    "### 3. Stemming\n",
    "\n",
    "Stemming is the process of reducing a word to its word stem that affixes to suffixes and prefixes or to the roots of words known as a lemma.\n",
    "In simple words, we can say that stemming is the process of removing plural and adjectives from the word.\n",
    "Example :\n",
    "gone → go, learning →learn\n",
    "\n",
    "In python, we can implement stemming by using PorterStemmer . we can import it from the library nltk.stem .\n"
   ]
  },
  {
   "cell_type": "code",
   "execution_count": 114,
   "metadata": {},
   "outputs": [],
   "source": [
    "from nltk.stem import PorterStemmer"
   ]
  },
  {
   "cell_type": "code",
   "execution_count": 115,
   "metadata": {},
   "outputs": [],
   "source": [
    "ps = PorterStemmer()"
   ]
  },
  {
   "cell_type": "code",
   "execution_count": 116,
   "metadata": {},
   "outputs": [
    {
     "name": "stdout",
     "output_type": "stream",
     "text": [
      "earn\n",
      "earn\n",
      "earn\n",
      "earn\n",
      "go\n",
      "gone\n",
      "go\n",
      "histori\n",
      "zzzzzzz\n"
     ]
    }
   ],
   "source": [
    "example_words = ['earn','earning','earned','earns','go','gone','going','history',\"zzzzzzz\"]\n",
    "\n",
    "for w in example_words: \n",
    "    print(ps.stem(w))"
   ]
  },
  {
   "cell_type": "code",
   "execution_count": 70,
   "metadata": {
    "scrolled": true
   },
   "outputs": [
    {
     "name": "stdout",
     "output_type": "stream",
     "text": [
      "nltk\n",
      "stand\n",
      "natur\n",
      "languag\n",
      "toolkit\n",
      "written\n",
      "two\n",
      "emin\n",
      "comput\n",
      ".\n",
      "linguist\n",
      ",\n",
      "steven\n",
      "bird\n",
      "(\n",
      "senior\n",
      "research\n",
      "associ\n",
      "ldc\n",
      "professor\n",
      "univers\n",
      "?\n",
      "melbourn\n",
      ")\n",
      "ewan\n",
      "klein\n",
      "(\n",
      "professor\n",
      "linguist\n",
      "edinburgh\n",
      "univers\n",
      ")\n",
      ".\n",
      "ntlk\n",
      "provid\n",
      "combin\n",
      "natur\n",
      "languag\n",
      "corpora\n",
      ",\n",
      "lexic\n",
      "resourc\n",
      ",\n",
      "exampl\n",
      "grammar\n",
      "languag\n",
      "process\n",
      "algorithm\n",
      ",\n",
      "methodolog\n",
      "demonstr\n",
      "python\n",
      "batteri\n",
      "includ\n",
      "view\n",
      "natur\n",
      "languag\n",
      "process\n",
      ".\n"
     ]
    }
   ],
   "source": [
    "for w in clean_wrd_tkns: \n",
    "    print(ps.stem(w))"
   ]
  },
  {
   "cell_type": "markdown",
   "metadata": {},
   "source": [
    "### 4. Lemmatizing\n",
    "\n",
    "Lemmatization usually refers to doing things properly with the use of vocabulary and morphological analysis of words, normally aiming to remove inflectional endings only and to return the base or dictionary form of a word, which is known as the lemma.\n",
    "In simple words lemmatization does the same work as stemming, the difference is that lemmatization returns a meaningful word.\n",
    "\n",
    "Example:\n",
    "Stemming\n",
    "history → histori\n",
    "Lemmatizing\n",
    "history → history\n",
    "\n",
    "\n",
    "It is Mostly used when designing chatbots, Q&A bots, text prediction, etc."
   ]
  },
  {
   "cell_type": "code",
   "execution_count": 117,
   "metadata": {},
   "outputs": [],
   "source": [
    "from nltk.stem import WordNetLemmatizer"
   ]
  },
  {
   "cell_type": "code",
   "execution_count": 118,
   "metadata": {},
   "outputs": [],
   "source": [
    "lemmaztier = WordNetLemmatizer()"
   ]
  },
  {
   "cell_type": "code",
   "execution_count": 119,
   "metadata": {},
   "outputs": [
    {
     "name": "stdout",
     "output_type": "stream",
     "text": [
      "earn\n",
      "earning\n",
      "earned\n",
      "earns\n",
      "go\n",
      "gone\n",
      "going\n",
      "history\n",
      "zzzzzzz\n"
     ]
    }
   ],
   "source": [
    "for w in example_words: print(lemmaztier.lemmatize(w))"
   ]
  },
  {
   "cell_type": "code",
   "execution_count": 75,
   "metadata": {},
   "outputs": [
    {
     "name": "stdout",
     "output_type": "stream",
     "text": [
      "NLTK\n",
      "stand\n",
      "Natural\n",
      "Language\n",
      "Toolkit\n",
      "written\n",
      "two\n",
      "eminent\n",
      "computational\n",
      ".\n",
      "linguist\n",
      ",\n",
      "Steven\n",
      "Bird\n",
      "(\n",
      "Senior\n",
      "Research\n",
      "Associate\n",
      "LDC\n",
      "professor\n",
      "University\n",
      "?\n",
      "Melbourne\n",
      ")\n",
      "Ewan\n",
      "Klein\n",
      "(\n",
      "Professor\n",
      "Linguistics\n",
      "Edinburgh\n",
      "University\n",
      ")\n",
      ".\n",
      "NTLK\n",
      "provides\n",
      "combination\n",
      "natural\n",
      "language\n",
      "corpus\n",
      ",\n",
      "lexical\n",
      "resource\n",
      ",\n",
      "example\n",
      "grammar\n",
      "language\n",
      "processing\n",
      "algorithm\n",
      ",\n",
      "methodology\n",
      "demonstration\n",
      "pythonic\n",
      "battery\n",
      "included\n",
      "view\n",
      "Natural\n",
      "Language\n",
      "Processing\n",
      ".\n"
     ]
    }
   ],
   "source": [
    "for w in clean_wrd_tkns: print(lemmaztier.lemmatize(w))"
   ]
  },
  {
   "cell_type": "code",
   "execution_count": null,
   "metadata": {},
   "outputs": [],
   "source": []
  },
  {
   "cell_type": "markdown",
   "metadata": {},
   "source": [
    "### 5. WordNet\n",
    "\n",
    "WordNet is the lexical database i.e. dictionary for the English language, specifically designed for natural language processing.\n",
    "We can use wordnet for finding synonyms and antonyms.\n",
    "\n",
    "In python, we can import wordnet from nltk.corpus .\n",
    "Code For Finding Synonym and antonym for a given word"
   ]
  },
  {
   "cell_type": "code",
   "execution_count": 3,
   "metadata": {},
   "outputs": [],
   "source": [
    "from nltk.corpus import wordnet"
   ]
  },
  {
   "cell_type": "code",
   "execution_count": 5,
   "metadata": {},
   "outputs": [],
   "source": [
    "synonyms = []\n",
    "antonyms = []\n",
    "\n",
    "for syn in wordnet.synsets(\"happy\"):\n",
    "    for i in syn.lemmas():\n",
    "        synonyms.append(i.name())\n",
    "        if i.antonyms():\n",
    "            antonyms.append(i.antonyms()[0].name())"
   ]
  },
  {
   "cell_type": "code",
   "execution_count": 6,
   "metadata": {},
   "outputs": [
    {
     "data": {
      "text/plain": [
       "['happy', 'felicitous', 'happy', 'glad', 'happy', 'happy', 'well-chosen']"
      ]
     },
     "execution_count": 6,
     "metadata": {},
     "output_type": "execute_result"
    }
   ],
   "source": [
    "synonyms"
   ]
  },
  {
   "cell_type": "code",
   "execution_count": 7,
   "metadata": {},
   "outputs": [
    {
     "data": {
      "text/plain": [
       "['unhappy']"
      ]
     },
     "execution_count": 7,
     "metadata": {},
     "output_type": "execute_result"
    }
   ],
   "source": [
    "antonyms"
   ]
  },
  {
   "cell_type": "markdown",
   "metadata": {},
   "source": [
    "### 6. Part of Speech Tagging\n",
    "\n",
    "It is a process of converting a sentence to forms — a list of words, a list of tuples (where each tuple is having a form (word, tag)). The tag in the case is a part-of-speech tag and signifies whether the word is a noun, adjective, verb, and so on."
   ]
  },
  {
   "cell_type": "markdown",
   "metadata": {},
   "source": [
    " CC coordinating conjunction\n",
    " CD cardinal digit\n",
    " DT determiner\n",
    " EX existential there (like: “there is” … think of it like “there”)\n",
    " FW foreign word\n",
    " IN preposition/subordinating conjunction\n",
    " JJ adjective ‘big’\n",
    " JJR adjective, comparative ‘bigger’\n",
    " JJS adjective, superlative ‘biggest’\n",
    " LS list marker 1)\n",
    " MD modal could, will\n",
    " NN noun, singular ‘desk’\n",
    " NNS noun plural ‘desks’\n",
    " NNP proper noun, singular ‘Harrison’\n",
    " NNPS proper noun, plural ‘Americans’\n",
    " PDT predeterminer ‘all the kids’\n",
    " POS possessive ending parent’s\n",
    " PRP personal pronoun I, he, she\n",
    " PRP possessive pronoun my, his, hers\n",
    " RB adverb very, silently,\n",
    " RBR adverb, comparative better\n",
    " RBS adverb, superlative best\n",
    " RP particle give up\n",
    " TO to go ‘to’ the store.\n",
    " UH interjection errrrrrrrm\n",
    " VB verb, base form take\n",
    " VBD verb, past tense took\n",
    " VBG verb, gerund/present participle taking\n",
    " VBN verb, past participle taken\n",
    " VBP verb, sing. present, non-3d take\n",
    " VBZ verb, 3rd person sing. present takes\n",
    " WDT wh-determiner which\n",
    " WP wh-pronoun who, what\n",
    " WP possessive wh-pronoun whose\n",
    " WRB wh-abverb where, when"
   ]
  },
  {
   "cell_type": "code",
   "execution_count": 120,
   "metadata": {},
   "outputs": [],
   "source": [
    "text = \"Boring, zzzzz. And more text. And more text. And more text.\""
   ]
  },
  {
   "cell_type": "code",
   "execution_count": 121,
   "metadata": {},
   "outputs": [],
   "source": [
    "wt  = nltk.word_tokenize(text)"
   ]
  },
  {
   "cell_type": "code",
   "execution_count": 122,
   "metadata": {},
   "outputs": [],
   "source": [
    "pt = nltk.pos_tag(wt)"
   ]
  },
  {
   "cell_type": "code",
   "execution_count": 123,
   "metadata": {},
   "outputs": [],
   "source": [
    "wo_t = list()"
   ]
  },
  {
   "cell_type": "code",
   "execution_count": 124,
   "metadata": {},
   "outputs": [],
   "source": [
    "for wt in pt: wo_t.append(wt[0]+\"_\"+wt[1])"
   ]
  },
  {
   "cell_type": "code",
   "execution_count": 125,
   "metadata": {},
   "outputs": [
    {
     "data": {
      "text/plain": [
       "'Boring_NNP ,_, zzzzz_NN ._. And_CC more_JJR text_NN ._. And_CC more_JJR text_NN ._. And_CC more_JJR text_NN ._.'"
      ]
     },
     "execution_count": 125,
     "metadata": {},
     "output_type": "execute_result"
    }
   ],
   "source": [
    "\" \".join(wo_t)"
   ]
  },
  {
   "cell_type": "code",
   "execution_count": null,
   "metadata": {},
   "outputs": [],
   "source": []
  },
  {
   "cell_type": "markdown",
   "metadata": {},
   "source": [
    "# Name entity recognition\n",
    "The purpose of named entity recognition is to extract information from unstructured text, especially where it's impractical to have humans read and markup a large number of documents.\n",
    "\n",
    "A named entity can be any type of real-world object or meaningful concept that is assigned a name or a proper name. Typically, named entities can include:\n",
    "\n",
    "    people\n",
    "    organisations\n",
    "    countries\n",
    "    languages\n",
    "    locations\n",
    "    works of art\n",
    "    dates\n",
    "    times\n",
    "    numbers\n",
    "    quantities\n"
   ]
  },
  {
   "cell_type": "code",
   "execution_count": 126,
   "metadata": {},
   "outputs": [],
   "source": [
    "text = \"Boring, zzzzz. And more text. And more text. And more text.\""
   ]
  },
  {
   "cell_type": "code",
   "execution_count": 127,
   "metadata": {},
   "outputs": [],
   "source": [
    "wt = nltk.word_tokenize(text)"
   ]
  },
  {
   "cell_type": "code",
   "execution_count": 128,
   "metadata": {},
   "outputs": [],
   "source": [
    "pos_t = nltk.pos_tag(wt)"
   ]
  },
  {
   "cell_type": "code",
   "execution_count": 129,
   "metadata": {},
   "outputs": [
    {
     "data": {
      "image/png": "[encoded data removed]",
      "text/plain": [
       "Tree('S', [Tree('GPE', [('Boring', 'NNP')]), (',', ','), ('zzzzz', 'NN'), ('.', '.'), ('And', 'CC'), ('more', 'JJR'), ('text', 'NN'), ('.', '.'), ('And', 'CC'), ('more', 'JJR'), ('text', 'NN'), ('.', '.'), ('And', 'CC'), ('more', 'JJR'), ('text', 'NN'), ('.', '.')])"
      ]
     },
     "execution_count": 129,
     "metadata": {},
     "output_type": "execute_result"
    }
   ],
   "source": [
    "nltk.ne_chunk(pos_t)"
   ]
  },
  {
   "cell_type": "code",
   "execution_count": null,
   "metadata": {},
   "outputs": [],
   "source": []
  },
  {
   "cell_type": "markdown",
   "metadata": {},
   "source": [
    "### 7. Bag of words\n",
    "\n",
    "Till now we have understood about tokenizing, stemming, and lemmatizing. all of these are the part of the text cleaning, now after cleaning the text we need to convert the text into some kind of numerical representation called vectors so that we can feed the data to a machine learning model for further processing.\n",
    "\n",
    "For converting the data into vectors we make use of some predefined libraries in python."
   ]
  },
  {
   "cell_type": "code",
   "execution_count": 47,
   "metadata": {},
   "outputs": [],
   "source": [
    "import re"
   ]
  },
  {
   "cell_type": "code",
   "execution_count": 68,
   "metadata": {},
   "outputs": [],
   "source": [
    "text = f\"\"\"Till now we have understood about tokenizing,        stemming, and lemmatizing. \n",
    "            All of these are the part of the text cleaning, now after cleaning the text we need to convert the text into some kind of numerical representation called vectors so that we can feed the data to a machine learning model for further processing.\n",
    "            For converting the data into vectors we make use of some predefined libraries in python.\"\"\""
   ]
  },
  {
   "cell_type": "code",
   "execution_count": 69,
   "metadata": {},
   "outputs": [],
   "source": [
    "dataset = nltk.sent_tokenize(text)"
   ]
  },
  {
   "cell_type": "code",
   "execution_count": 70,
   "metadata": {},
   "outputs": [
    {
     "data": {
      "text/plain": [
       "3"
      ]
     },
     "execution_count": 70,
     "metadata": {},
     "output_type": "execute_result"
    }
   ],
   "source": [
    "len(dataset)"
   ]
  },
  {
   "cell_type": "code",
   "execution_count": 71,
   "metadata": {},
   "outputs": [
    {
     "data": {
      "text/plain": [
       "['Till now we have understood about tokenizing,        stemming, and lemmatizing.',\n",
       " 'All of these are the part of the text cleaning, now after cleaning the text we need to convert the text into some kind of numerical representation called vectors so that we can feed the data to a machine learning model for further processing.',\n",
       " 'For converting the data into vectors we make use of some predefined libraries in python.']"
      ]
     },
     "execution_count": 71,
     "metadata": {},
     "output_type": "execute_result"
    }
   ],
   "source": [
    "dataset"
   ]
  },
  {
   "cell_type": "code",
   "execution_count": 78,
   "metadata": {},
   "outputs": [],
   "source": [
    "for i in range(len(dataset)):\n",
    "    dataset[i] = dataset[i].lower()\n",
    "    dataset[i] = re.sub(r'\\W',\" \",dataset[i])\n",
    "    dataset[i] = re.sub(r'\\s+',\" \",dataset[i])"
   ]
  },
  {
   "cell_type": "code",
   "execution_count": 77,
   "metadata": {},
   "outputs": [
    {
     "data": {
      "text/plain": [
       "['till now we have understood about tokenizing stemming and lemmatizing ',\n",
       " 'all of these are the part of the text cleaning now after cleaning the text we need to convert the text into some kind of numerical representation called vectors so that we can feed the data to a machine learning model for further processing ',\n",
       " 'for converting the data into vectors we make use of some predefined libraries in python ']"
      ]
     },
     "execution_count": 77,
     "metadata": {},
     "output_type": "execute_result"
    }
   ],
   "source": [
    "dataset"
   ]
  },
  {
   "cell_type": "code",
   "execution_count": 55,
   "metadata": {},
   "outputs": [],
   "source": [
    "wordcnt = {}\n",
    "for data in dataset:\n",
    "    words = nltk.word_tokenize(data)\n",
    "    for word in words:\n",
    "        if word not in wordcnt.keys():\n",
    "            wordcnt[word] = 1\n",
    "        else:\n",
    "            wordcnt[word] += 1"
   ]
  },
  {
   "cell_type": "code",
   "execution_count": 87,
   "metadata": {},
   "outputs": [
    {
     "data": {
      "text/plain": [
       "{'a': 1,\n",
       " 'about': 1,\n",
       " 'after': 1,\n",
       " 'all': 1,\n",
       " 'and': 1,\n",
       " 'are': 1,\n",
       " 'called': 1,\n",
       " 'can': 1,\n",
       " 'cleaning': 2,\n",
       " 'convert': 1,\n",
       " 'converting': 1,\n",
       " 'data': 2,\n",
       " 'feed': 1,\n",
       " 'for': 2,\n",
       " 'further': 1,\n",
       " 'have': 1,\n",
       " 'in': 1,\n",
       " 'into': 2,\n",
       " 'kind': 1,\n",
       " 'learning': 1,\n",
       " 'lemmatizing': 1,\n",
       " 'libraries': 1,\n",
       " 'machine': 1,\n",
       " 'make': 1,\n",
       " 'model': 1,\n",
       " 'need': 1,\n",
       " 'now': 2,\n",
       " 'numerical': 1,\n",
       " 'of': 4,\n",
       " 'part': 1,\n",
       " 'predefined': 1,\n",
       " 'processing': 1,\n",
       " 'python': 1,\n",
       " 'representation': 1,\n",
       " 'so': 1,\n",
       " 'some': 2,\n",
       " 'stemming': 1,\n",
       " 'text': 3,\n",
       " 'that': 1,\n",
       " 'the': 6,\n",
       " 'these': 1,\n",
       " 'till': 1,\n",
       " 'to': 2,\n",
       " 'tokenizing': 1,\n",
       " 'understood': 1,\n",
       " 'use': 1,\n",
       " 'vectors': 2,\n",
       " 'we': 4}"
      ]
     },
     "execution_count": 87,
     "metadata": {},
     "output_type": "execute_result"
    }
   ],
   "source": [
    "wordcnt"
   ]
  },
  {
   "cell_type": "code",
   "execution_count": 88,
   "metadata": {},
   "outputs": [],
   "source": [
    "x = list()"
   ]
  },
  {
   "cell_type": "code",
   "execution_count": 89,
   "metadata": {},
   "outputs": [],
   "source": [
    "for data in dataset:\n",
    "    vector = list()\n",
    "    for word in wordcnt:\n",
    "        if word in nltk.word_tokenize(data): vector.append(1)\n",
    "        else: vector.append(0)\n",
    "    x.append(vector)"
   ]
  },
  {
   "cell_type": "code",
   "execution_count": 92,
   "metadata": {},
   "outputs": [],
   "source": [
    "import numpy as np"
   ]
  },
  {
   "cell_type": "code",
   "execution_count": 93,
   "metadata": {},
   "outputs": [
    {
     "data": {
      "text/plain": [
       "array([[1, 1, 1, 1, 1, 1, 1, 1, 1, 1, 0, 0, 0, 0, 0, 0, 0, 0, 0, 0, 0, 0,\n",
       "        0, 0, 0, 0, 0, 0, 0, 0, 0, 0, 0, 0, 0, 0, 0, 0, 0, 0, 0, 0, 0, 0,\n",
       "        0, 0, 0, 0],\n",
       "       [0, 1, 1, 0, 0, 0, 0, 0, 0, 0, 1, 1, 1, 1, 1, 1, 1, 1, 1, 1, 1, 1,\n",
       "        1, 1, 1, 1, 1, 1, 1, 1, 1, 1, 1, 1, 1, 1, 1, 1, 1, 1, 1, 0, 0, 0,\n",
       "        0, 0, 0, 0],\n",
       "       [0, 0, 1, 0, 0, 0, 0, 0, 0, 0, 0, 1, 0, 0, 1, 0, 0, 0, 0, 0, 0, 0,\n",
       "        1, 1, 0, 0, 0, 0, 1, 0, 0, 0, 0, 1, 0, 0, 0, 0, 1, 0, 0, 1, 1, 1,\n",
       "        1, 1, 1, 1]])"
      ]
     },
     "execution_count": 93,
     "metadata": {},
     "output_type": "execute_result"
    }
   ],
   "source": [
    "np.array(x)"
   ]
  },
  {
   "cell_type": "code",
   "execution_count": null,
   "metadata": {},
   "outputs": [],
   "source": []
  },
  {
   "cell_type": "markdown",
   "metadata": {},
   "source": [
    "#### Using sklearn"
   ]
  },
  {
   "cell_type": "code",
   "execution_count": 94,
   "metadata": {},
   "outputs": [],
   "source": [
    "import pandas as pd"
   ]
  },
  {
   "cell_type": "code",
   "execution_count": 96,
   "metadata": {},
   "outputs": [],
   "source": [
    "sent = pd.DataFrame(['he is a good boy','she is a good girl', 'boy and girl are good'],columns=['text'])"
   ]
  },
  {
   "cell_type": "code",
   "execution_count": 98,
   "metadata": {},
   "outputs": [],
   "source": [
    "corpus = list()"
   ]
  },
  {
   "cell_type": "code",
   "execution_count": 104,
   "metadata": {},
   "outputs": [],
   "source": [
    "for i in range(0,sent.shape[0]):\n",
    "    words = sent['text'][i]\n",
    "    words = word_tokenize(words)\n",
    "    texts = [lemmaztier.lemmatize(w) for w in words if w not in stopwords.words('english')]\n",
    "    text = ' '.join(texts)\n",
    "    corpus.append(text)"
   ]
  },
  {
   "cell_type": "code",
   "execution_count": 112,
   "metadata": {},
   "outputs": [
    {
     "data": {
      "text/plain": [
       "['good boy', 'good girl', 'boy girl good']"
      ]
     },
     "execution_count": 112,
     "metadata": {},
     "output_type": "execute_result"
    }
   ],
   "source": [
    "corpus"
   ]
  },
  {
   "cell_type": "code",
   "execution_count": 106,
   "metadata": {},
   "outputs": [],
   "source": [
    "from sklearn.feature_extraction.text import CountVectorizer"
   ]
  },
  {
   "cell_type": "code",
   "execution_count": 107,
   "metadata": {},
   "outputs": [],
   "source": [
    "cv = CountVectorizer()"
   ]
  },
  {
   "cell_type": "code",
   "execution_count": 108,
   "metadata": {},
   "outputs": [],
   "source": [
    "x = cv.fit_transform(corpus).toarray()"
   ]
  },
  {
   "cell_type": "code",
   "execution_count": 109,
   "metadata": {},
   "outputs": [
    {
     "data": {
      "text/plain": [
       "array([[1, 0, 1],\n",
       "       [0, 1, 1],\n",
       "       [1, 1, 1]])"
      ]
     },
     "execution_count": 109,
     "metadata": {},
     "output_type": "execute_result"
    }
   ],
   "source": [
    "x"
   ]
  },
  {
   "cell_type": "markdown",
   "metadata": {},
   "source": [
    "# TF(Term frequency) & IDF (Inverse Document Frequency)"
   ]
  },
  {
   "cell_type": "markdown",
   "metadata": {},
   "source": [
    "TF - Term Frequency\n",
    "\n",
    "IDF - Inverse Document Frequency\n",
    "\n",
    "TF-IDF = TF * IDF"
   ]
  },
  {
   "cell_type": "markdown",
   "metadata": {},
   "source": [
    "##### Term Frequency (TF) = Number of occurrences of a word in a document / Number of words in that document"
   ]
  },
  {
   "cell_type": "markdown",
   "metadata": {},
   "source": [
    "##### Inverse Document (IDF) = log_e (Total Number of documents / Number of documents containing word)"
   ]
  }
 ],
 "metadata": {
  "kernelspec": {
   "display_name": "Python 3",
   "language": "python",
   "name": "python3"
  },
  "language_info": {
   "codemirror_mode": {
    "name": "ipython",
    "version": 3
   },
   "file_extension": ".py",
   "mimetype": "text/x-python",
   "name": "python",
   "nbconvert_exporter": "python",
   "pygments_lexer": "ipython3",
   "version": "3.8.1 (tags/v3.8.1:1b293b6, Dec 18 2019, 22:39:24) [MSC v.1916 32 bit (Intel)]"
  },
  "vscode": {
   "interpreter": {
    "hash": "07d792be6b57be6706d062b64748ace5f7e7b33f6afbc78bdfd04c27fd7929d9"
   }
  }
 },
 "nbformat": 4,
 "nbformat_minor": 2
}
